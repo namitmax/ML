{
 "cells": [
  {
   "cell_type": "markdown",
   "metadata": {},
   "source": [
    "# Алгоритмы интеллектуальной обработки больших объемов данных\n",
    "## Домашнее задание №2: Линейные модели\n"
   ]
  },
  {
   "cell_type": "markdown",
   "metadata": {},
   "source": [
    "###### <hr\\>\n",
    "**Общая информация**\n",
    "\n",
    "**Срок сдачи:** 09 ноября 18:00 Сдача **очная** на онлайн занятии. <br\\>\n",
    "\n",
    "\n",
    "Используйте данный Ipython Notebook при оформлении домашнего задания.\n",
    "\n",
    "Присылать ДЗ необходимо в виде ссылки на свой github репозиторий на почту ml1.sphere@mail.ru с указанием темы в следующем формате:\n",
    "\n",
    "[ML0920, Задание 2] Фамилия Имя.\n",
    "\n",
    "\n",
    "\n",
    "**Штрафные баллы:**\n",
    "\n",
    "1. Невыполнение PEP8 -1 балл\n",
    "2. Отсутствие фамилии в имени скрипта (скрипт должен называться по аналогии со stroykova_hw2.ipynb) -1 балл\n",
    "3. Все строчки должны быть выполнены. Нужно, чтобы output команды можно было увидеть уже в git'е. В противном случае -1 балл\n",
    "4. При оформлении ДЗ нужно пользоваться данным файлом в качестве шаблона. Не нужно удалять и видоизменять написанный код и текст, если явно не указана такая возможность. В противном случае -1 балл\n",
    "<hr\\>"
   ]
  },
  {
   "cell_type": "code",
   "execution_count": 1,
   "metadata": {},
   "outputs": [],
   "source": [
    "import pandas as pd\n",
    "import numpy as np\n",
    "import matplotlib.pyplot as plt\n",
    "\n",
    "%matplotlib inline\n",
    "\n",
    "plt.style.use('ggplot')\n",
    "plt.rcParams['figure.figsize'] = (12,5)"
   ]
  },
  {
   "cell_type": "markdown",
   "metadata": {},
   "source": [
    "Здравствуйте, уважаемые студенты! \n",
    "\n",
    "В этом задании мы будем реализовать линейные модели. Необходимо реализовать линейную и логистическую регрессии с L2 регуляризацией"
   ]
  },
  {
   "cell_type": "markdown",
   "metadata": {},
   "source": [
    "# Теоретическое введение\n",
    "\n"
   ]
  },
  {
   "cell_type": "markdown",
   "metadata": {},
   "source": [
    "Линейная регрессия решает задачу регрессии и оптимизирует функцию потерь MSE \n",
    "\n",
    "$$L(w) =  \\frac{1}{N}\\left[\\sum_i (y_i - a_i) ^ 2 \\right], $$ где $y_i$ $-$ целевая функция,  $a_i = a(x_i) =  \\langle\\,x_i,w\\rangle ,$ $-$ предсказание алгоритма на объекте $x_i$, $w$ $-$ вектор весов (размерности $D$), $x_i$ $-$ вектор признаков (такой же размерности $D$).\n",
    "\n",
    "Не забываем, что здесь и далее  мы считаем, что в $x_i$ есть тождественный вектор единиц, ему соответствует вес $w_0$.\n"
   ]
  },
  {
   "cell_type": "markdown",
   "metadata": {},
   "source": [
    "Логистическая регрессия является линейным классификатором, который оптимизирует так называемый функционал log loss:"
   ]
  },
  {
   "cell_type": "markdown",
   "metadata": {},
   "source": [
    "$$L(w) = - \\frac{1}{N}\\left[\\sum_i y_i \\log a_i + ( 1 - y_i) \\log (1 - a_i) \\right],$$\n",
    "где  $y_i  \\in \\{0,1\\}$ $-$ метка класса, $a_i$ $-$ предсказание алгоритма на объекте $x_i$. Модель пытается предсказать апостериорую вероятность объекта принадлежать к классу \"1\":\n",
    "$$ p(y_i = 1 | x_i) = a(x_i) =  \\sigma( \\langle\\,x_i,w\\rangle ),$$\n",
    "$w$ $-$ вектор весов (размерности $D$), $x_i$ $-$ вектор признаков (такой же размерности $D$).\n",
    "\n",
    "Функция $\\sigma(x)$ $-$ нелинейная функция, пероводящее скалярное произведение объекта на веса в число $\\in (0,1)$ (мы же моделируем вероятность все-таки!)\n",
    "\n",
    "$$\\sigma(x) = \\frac{1}{1 + \\exp(-x)}$$\n",
    "\n",
    "Если внимательно посмотреть на функцию потерь, то можно заметить, что в зависимости от правильного ответа алгоритм штрафуется или функцией $-\\log a_i$, или функцией $-\\log (1 - a_i)$.\n",
    "\n"
   ]
  },
  {
   "cell_type": "markdown",
   "metadata": {},
   "source": [
    "Часто для решения проблем, которые так или иначе связаны с проблемой переобучения, в функционал качества добавляют слагаемое, которое называют ***регуляризацией***. Итоговый функционал для линейной регрессии тогда принимает вид:\n",
    "\n",
    "$$L(w) =  \\frac{1}{N}\\left[\\sum_i (y_i - a_i) ^ 2 \\right] + \\frac{1}{C}R(w) $$\n",
    "\n",
    "Для логистической: \n",
    "$$L(w) = - \\frac{1}{N}\\left[\\sum_i y_i \\log a_i + ( 1 - y_i) \\log (1 - a_i) \\right] +  \\frac{1}{C}R(w)$$\n",
    "\n",
    "Самое понятие регуляризации введено основателем ВМК академиком Тихоновым https://ru.wikipedia.org/wiki/Метод_регуляризации_Тихонова\n",
    "\n",
    "Идейно методика регуляризации заключается в следующем $-$ мы рассматриваем некорректно поставленную задачу (что это такое можно найти в интернете), для того чтобы сузить набор различных вариантов (лучшие из которых будут являться переобучением ) мы вводим дополнительные ограничения на множество искомых решений. На лекции Вы уже рассмотрели два варианта регуляризации.\n",
    "\n",
    "$L1$ регуляризация:\n",
    "$$R(w) = \\sum_{j=1}^{D}|w_j|$$\n",
    "$L2$ регуляризация:\n",
    "$$R(w) =  \\sum_{j=1}^{D}w_j^2$$\n",
    "\n",
    "С их помощью мы ограничиваем модель в  возможности выбора каких угодно весов минимизирующих наш лосс, модель уже не сможет подстроиться под данные как ей угодно. \n",
    "\n",
    "Вам нужно добавить соотвествущую Вашему варианту $L2$ регуляризацию.\n",
    "\n",
    "И так, мы поняли, какую функцию ошибки будем минимизировать, разобрались, как получить предсказания по объекту и обученным весам. Осталось разобраться, как получить оптимальные веса. Для этого нужно выбрать какой-то метод оптимизации.\n",
    "\n"
   ]
  },
  {
   "cell_type": "markdown",
   "metadata": {},
   "source": [
    "Градиентный спуск является самым популярным алгоритмом обучения линейных моделей. В этом задании Вам предложат реализовать стохастический градиентный спуск или  мини-батч градиентный спуск (мини-батч на русский язык довольно сложно перевести, многие переводят это как \"пакетный\", но мне не кажется этот перевод удачным). Далее нам потребуется определение **эпохи**.\n",
    "Эпохой в SGD и MB-GD называется один проход по **всем** объектам в обучающей выборки.\n",
    "* В SGD градиент расчитывается по одному случайному объекту. Сам алгоритм выглядит примерно так:\n",
    "        1) Перемешать выборку\n",
    "        2) Посчитать градиент функции потерь на одном объекте (далее один объект тоже будем называть батчем)\n",
    "        3) Сделать шаг спуска\n",
    "        4) Повторять 2) и 3) пока не пройдет максимальное число эпох.\n",
    "* В Mini Batch SGD - по подвыборке объектов. Сам алгоритм выглядит примерно так::\n",
    "        1) Перемешать выборку, выбрать размер мини-батча (от 1 до размера выборки)\n",
    "        2) Почитать градиент функции потерь по мини-батчу (не забыть поделить на  число объектов в мини-батче)\n",
    "        3) Сделать шаг спуска\n",
    "        4) Повторять 2) и 3) пока не пройдет максимальное число эпох.\n",
    "* Для отладки алгоритма реализуйте возможность  вывода средней ошибки на обучении модели по объектам (мини-батчам). После шага градиентного спуска посчитайте значение ошибки на объекте (или мини-батче), а затем усредните, например, по ста шагам. Если обучение проходит корректно, то мы должны увидеть, что каждые 100 шагов функция потерь уменьшается. \n",
    "* Правило останова - максимальное количество эпох\n",
    "    \n"
   ]
  },
  {
   "cell_type": "markdown",
   "metadata": {},
   "source": [
    "# Теоретические вопросы (2 балла)\n",
    "В этой части Вам будут предложены теоретичские вопросы и задачи по теме. Вы, конечно, можете списать их у своего товарища или найти решение в интернете, но учтите, что они обязательно войдут в теоретический коллоквиум. Лучше разобраться в теме сейчас и успешно ответить на коллоквиуме, чем списать, не разобравшись в материале, и быть терзаемым совестью. \n",
    "\n",
    "\n",
    "Формулы надо оформлять в формате **LaTeX**."
   ]
  },
  {
   "cell_type": "markdown",
   "metadata": {},
   "source": [
    "Задача 1. Градиент для линейной регрессии.\n",
    "* Выпишите формулу обновления весов для линейной регрессии с L2 регуляризацией для мини-батч градиентого спуска размера $n$:\n",
    "\n",
    "$$ w_{new} = w_{old} - ... $$\n",
    "\n",
    " Отнеситесь к этому пункту максимально серьезно, это Вам нужно будет реализовать в задании.\n",
    " \n",
    "Проанализруйте итоговую формулу градиента - как  интуитивно можно  описать, чему равен градиент?"
   ]
  },
  {
   "cell_type": "markdown",
   "metadata": {},
   "source": [
    "$$ L(x,y,w) = \\frac{1}{l}\\sum\\limits_{i=1}^l (\\sum\\limits_{j=1}^n w_{j}*x_{ij} - y_{i})^2  \n",
    "+ \\frac{1}{C}\\sum\\limits_{i=1}^n w_i^2 \n$$",
    "\\\\ \n",
    "w_{new} = w_{old} - \\alpha \\frac{1}{l} \\sum\\limits_{k=1}^l \\nabla_{w_{old}}L(x_{k},y_{k},w_{old}) \n",
    "\\\\\n",
    "\\frac{dL(x_{k},y_{k},w_{old})}{dw_{i}} = \\frac{d [ (\\sum\\limits_{j=1}^n w_{j}*x_{kj} - y_{k})^2  \n",
    "+ \\frac{1}{C}\\sum\\limits_{j=1}^n w_j^2 ]}{dw_{i}} = (2\\sum\\limits_{j=1}^n w_{j}*x_{kj} - y_{k})x_{ki} \n",
    "+ \\frac{2w_{i}}{C} \n",
    "\\ (здесь \\ x_{kj} - j \\ элемент \\ вектора \\ x_{k})\n",
    "\\\\\n",
    "w_{new} = w_{old} -  \\frac{2\\alpha}{l} \\sum\\limits_{k=1}^l [(w_{old}, x_{k}) - y_{k}]x_{k} \n",
    "- \\frac{2\\alpha w_{old}}{C} $$"
   ]
  },
  {
   "cell_type": "markdown",
   "metadata": {},
   "source": [
    "***Ваше решение здесь***"
   ]
  },
  {
   "cell_type": "markdown",
   "metadata": {},
   "source": [
    "Задача 2. Градиент для логистической регрессии.\n",
    "* Выпишите формулу обновления весов для логистической регрессии с L2 регуляризацией  для мини-батч градиентого спуска размера $n$:\n",
    "\n",
    "$$ w_{new} = w_{old} - ... $$\n",
    "\n",
    " Отнеситесь к этому пункту максимально серьезно, это Вам нужно будет реализовать в задании.\n",
    " \n",
    "Проанализруйте итоговую формулу градиента - как  интуитивно можно  описать, чему равен градиент? Как соотносится этот градиент с градиентом, возникающий в задаче линейной регрессии?\n",
    "\n",
    "Подсказка: Вам градиент, которой получается если “в лоб” продифференцировать,  надо немного преобразовать.\n",
    "Надо подставить, что $1 - \\sigma(w,x) $ это  $1 - a(x_i)$, а  $-\\sigma(w,x)$ это $0 - a(x_i)$.  Тогда получится свести к одной красивой формуле с линейной регрессией, которую программировать будет намного проще."
   ]
  },
  {
   "cell_type": "markdown",
   "metadata": {},
   "source": [
    "$$L(x,y,w) = - \\frac{1}{l}\\left[\\sum_{k=1}^l y_k \\log \\sigma(x_{k},w) + (1 - y_k) \\log (1 - \\sigma(x_{k},w)) \\right] +  \\frac{1}{C}\\sum\\limits_{i=1}^{n} w_{i}^2\n",
    "\\\\ \n",
    "w_{new} = w_{old} - \\alpha \\frac{1}{l} \\sum\\limits_{k=1}^l \\nabla_{w_{old}}L(x_{k},y_{k},w_{old}) \n",
    "\\\\\n",
    "\\frac{dL(x_{k},y_{k},w_{old})}{dw_{i}} = \\frac{d( -\\frac{1}{l} \\sum\\limits_{k=1}^l y_k \\left[\\log \\sigma(x_{k},w) + (1 - y_k) \\log (1 - \\sigma(x_{k},w)) \\right] +  \\frac{1}{C}\\sum\\limits_{i=1}^{n} w_{i}^2)}{dw_{i}} =\n",
    "\\\\\n",
    "=\\frac{1}{l} \\left[ \\sum\\limits_{k=1}^l y_{k}\\frac{\\sigma(x_{k},w)^2}{\\sigma(x_{k},w)}e^{-(x_{k},w)}x_{ik} - (1 - y_{k})\\frac{\\sigma(x_{k},w)^2}{1 - \\sigma(x_{k},w)}e^{-(x_{k},w)}x_{ik} \\right] + \\frac{2w_{i}}{C}= \n",
    "\\\\\n",
    "=\\frac{1}{l} \\left[ \\sum\\limits_{k=1}^l (\\sigma(x_{k},w) - y_{k})x_{ik} \\right] + \\frac{2w_{i}}{C}\n",
    "\\\\\n",
    "w_{new} = w_{old} - \\frac{\\alpha}{l} \\left[ \\sum\\limits_{k=1}^l (\\sigma(x_{k},w) - y_{k}) x_{k} \\right]  - \\frac{2 \\alpha w_{old}}{C}$$"
   ]
  },
  {
   "cell_type": "markdown",
   "metadata": {},
   "source": [
    "Интуитивно градиент -> некоторое среднее по батчу значение разницы между предсказанными значениями и реальными значениями"
   ]
  },
  {
   "cell_type": "markdown",
   "metadata": {},
   "source": [
    "***Ваше решение здесь***"
   ]
  },
  {
   "cell_type": "markdown",
   "metadata": {},
   "source": [
    "Задача 3. Точное решение линейной регрессии\n",
    "\n",
    "На лекции было показано, что точное решение линейной регрессии имеет вид $w = (X^TX)^{-1}X^TY $. \n",
    "* Покажите, что это действительно является точкой минимума в случае, если матрица X имеет строк не меньше, чем столбцов и имеет полный ранг. Подсказка: посчитайте Гессиан и покажите, что в этом случае он положительно определен. \n",
    "* Выпишите точное решение для модели с $L2$ регуляризацией. Как L2 регуляризация помогает с точным решением где матрица X имеет линейно зависимые признаки?"
   ]
  },
  {
   "cell_type": "markdown",
   "metadata": {},
   "source": [
    "#### 3.1$$\n",
    "Q(w) = \\frac{1}{n}||Xw- Y||^2 = \\frac{1}{n} (Xw - Y)^{T}(Xw - Y) = \\frac{1}{n}(w^{T}X^{T}Xw-y^{T}Xw-w^{T}X^{T}y +y^{T}y)  => \\\\ \n",
    "\\frac{dQ}{dw} = 2X^{T}Xw-2X^{T}y = 0 - точка \\ экстремума, \\ тогда \\ w = (X^{T}X)^{-1}X^{T}y => \\\\\n",
    "\\frac{d^2Q}{dw^2} = 2X^{T}X; \\ \\forall w: \\ (2X^{T}Xw, w) = 2(Xw, Xw) > 0 \\ ч. \\ т. \\ д.$$"
   ]
  },
  {
   "cell_type": "markdown",
   "metadata": {},
   "source": [
    "#### 3.2$$\n",
    "Q(w) = \\frac{1}{n}||Xw- Y||^2 + \\alpha ww^{T} \\\\\n",
    "\\frac{dQ}{dw} = 2X^{T}Xw-2X^{T}y + 2 \\alpha w E = 0 - точка \\ экстремума, \\ тогда \\ w = (X^{T}X + \\alpha E)^{-1}X^{T}y$$"
   ]
  },
  {
   "cell_type": "markdown",
   "metadata": {},
   "source": [
    "Если матрица содержит линейно зависимые признаки то некоторые значения матрицы X^T * X будут близки к 0, значит обратить её либо не удастся, либо это получится сделать, но в этом случае получим очень большие значения в обратной. Регуляризация помогает справится с этой проблемой, изменяя значения матрицы."
   ]
  },
  {
   "cell_type": "markdown",
   "metadata": {},
   "source": [
    "***Ваше решение здесь***"
   ]
  },
  {
   "cell_type": "markdown",
   "metadata": {},
   "source": [
    "Задача 4.  Предсказываем вероятности.\n",
    "\n",
    "Когда говорят о логистической регрессии, произносят фразу, что она \"предсказывает вероятности положительного класса\". Давайте разберемся, что же за этим стоит. Посчитаем математическое ожидание функции потерь и проверим, что предсказание алгоритма, оптимизирующее это мат. ожидание, будет являться вероятностью положительного класса. \n",
    "\n",
    "И так, функция потерь на объекте $x_i$, который имеет метку $y_i \\in \\{0,1\\}$  для предсказания $a(x_i)$ равна:\n",
    "$$L(y_i, b) =-[y_i == 1] \\log a(x_i)  - [y_i == 0] \\log(1 - a(x_i)) $$\n",
    "\n",
    "Где $[]$ означает индикатор $-$ он равен единице, если значение внутри него истинно, иначе он равен нулю. Тогда мат. ожидание при условии конкретного $x_i$  по определение мат. ожидания дискретной случайной величины:\n",
    "$$E(L | x_i) = -p(y_i = 1 |x_i ) \\log a(x_i)  - p(y_i = 0 | x_i) \\log( 1 - a(x_i))$$\n",
    "* Докажите, что значение $a(x_i)$, минимизирующее данное мат. ожидание, в точности равно $p(y_i = 1 |x_i)$, то есть равно вероятности положительного класса.\n",
    "\n",
    "Подсказка: возможно, придется воспользоваться, что  $p(y_i = 1 | x_i) + p(y_i = 0 | x_i) = 1$"
   ]
  },
  {
   "cell_type": "markdown",
   "metadata": {},
   "source": [
    "1) рассмотрим $\\frac{d(E(L|x_i)}{da} = -\\frac{p(y_i = 1|x_i)}{a(x_i)} + \\frac{p(y_i = 0|x_i)}{1 - a(x_i)} = \\frac{-p(y_i = 1|x_i) + p(y_i = 1|x_i)a(x_i) + p(y_i = 0|x_i)a(x_i)}{a(x_i)(1 - a(x_i))} = \\frac{a(x_i) - p(y_i = 1|x_i)}{a(x_i)(1 - a(x_i))}$\n",
    "\n",
    "2) ясно что вероятность 0 <= $p(y_i = 1|x_i)$ <= 1 в любом случае - до 1 функция растёт, после 1 функция убывает до  $p(y_i = 1|x_i)$, и, затем функция растет до 0 ( следует из знака производной ). Следовательно эта точка - точка в которой достигается минимум."
   ]
  },
  {
   "cell_type": "markdown",
   "metadata": {},
   "source": [
    "***Ваше решение здесь***"
   ]
  },
  {
   "cell_type": "markdown",
   "metadata": {},
   "source": [
    "Задача 5.  Смысл регуляризации.\n",
    "\n",
    "Нужно ли в L1/L2 регуляризации использовать свободный член $w_0$ (который не умножается ни на какой признак)?\n",
    "\n",
    "Подсказка: подумайте, для чего мы вводим $w_0$\n",
    "\n",
    "В регуляризации не нужно использовать свободный член $w_0$ , ведь он отвечает за сдвиг в гиперпрсотранстве"
   ]
  },
  {
   "cell_type": "markdown",
   "metadata": {},
   "source": [
    "***Ваше решение здесь***"
   ]
  },
  {
   "cell_type": "markdown",
   "metadata": {},
   "source": [
    "#  Реализация линейной модели (4 балла)"
   ]
  },
  {
   "cell_type": "markdown",
   "metadata": {},
   "source": [
    "## Зачем нужны батчи?\n"
   ]
  },
  {
   "cell_type": "markdown",
   "metadata": {},
   "source": [
    "Как Вы могли заметить из теоретического введения, что в случае SGD, что в случа mini-batch GD,  на каждой итерации обновление весов  происходит только по небольшой части данных (1 пример в случае SGD, batch примеров в случае mini-batch). То есть для каждой итерации нам *** не нужна вся выборка***. Мы можем просто итерироваться по выборке, беря батч нужного размера (далее 1 объект тоже будем называть батчом).\n",
    "\n",
    "Легко заметить, что в этом случае нам не нужно загружать все данные в оперативную память, достаточно просто считать батч с диска, обновить веса, считать диска другой батч и так далее. В целях упрощения домашней работы, прямо с диска  мы считывать не будем, будем работать с обычными numpy array. \n",
    "\n",
    "\n",
    "\n"
   ]
  },
  {
   "cell_type": "markdown",
   "metadata": {},
   "source": [
    "## Немножко про генераторы в Python\n",
    "\n"
   ]
  },
  {
   "cell_type": "markdown",
   "metadata": {},
   "source": [
    "Идея считывания данных кусками удачно ложится на так называемые ***генераторы*** из языка Python. В данной работе Вам предлагается не только разобраться с логистической регрессией, но  и познакомиться с таким важным элементом языка.  При желании Вы можете убрать весь код, связанный с генераторами, и реализовать логистическую регрессию и без них, ***штрафоваться это никак не будет***. Главное, чтобы сама модель была реализована правильно, и все пункты были выполнены. \n",
    "\n",
    "Подробнее можно почитать вот тут https://anandology.com/python-practice-book/iterators.html\n"
   ]
  },
  {
   "cell_type": "markdown",
   "metadata": {},
   "source": [
    "К генератору стоит относиться просто как к функции, которая порождает не один объект, а целую последовательность объектов. Новое значение из последовательности генерируется с помощью ключевого слова ***yield***. Ниже Вы можете насладиться  генератором чисел Фибоначчи."
   ]
  },
  {
   "cell_type": "code",
   "execution_count": 2,
   "metadata": {},
   "outputs": [],
   "source": [
    "def fib(max_iter=4):\n",
    "    a, b = 0, 1\n",
    "    iter_num = 0\n",
    "    while 1:\n",
    "        yield a\n",
    "        a, b = b, a + b\n",
    "        iter_num += 1\n",
    "        if iter_num == max_iter:\n",
    "            break"
   ]
  },
  {
   "cell_type": "markdown",
   "metadata": {},
   "source": [
    "Вот так можно сгенерировать последовательность Фибоначчи. \n",
    "\n",
    "Заметьте, что к генераторам можно применять некоторые стандартные функции из Python, например enumerate."
   ]
  },
  {
   "cell_type": "code",
   "execution_count": 3,
   "metadata": {},
   "outputs": [
    {
     "name": "stdout",
     "output_type": "stream",
     "text": [
      "Fib num: 0 fib values: 0\n",
      "Fib num: 1 fib values: 1\n",
      "Fib num: 2 fib values: 1\n",
      "Fib num: 3 fib values: 2\n"
     ]
    }
   ],
   "source": [
    "new_generator = fib()\n",
    "for j, fib_val in enumerate(new_generator):\n",
    "    print (\"Fib num: \" + str(j) + \" fib values: \" + str(fib_val))"
   ]
  },
  {
   "cell_type": "markdown",
   "metadata": {},
   "source": [
    "Пересоздавая объект, можно сколько угодно раз генерировать заново последовательность. "
   ]
  },
  {
   "cell_type": "code",
   "execution_count": 4,
   "metadata": {},
   "outputs": [
    {
     "name": "stdout",
     "output_type": "stream",
     "text": [
      "Fib num: 0 fib values: 0\n",
      "Fib num: 1 fib values: 1\n",
      "Fib num: 2 fib values: 1\n",
      "Fib num: 3 fib values: 2\n",
      "Fib num: 0 fib values: 0\n",
      "Fib num: 1 fib values: 1\n",
      "Fib num: 2 fib values: 1\n",
      "Fib num: 3 fib values: 2\n",
      "Fib num: 0 fib values: 0\n",
      "Fib num: 1 fib values: 1\n",
      "Fib num: 2 fib values: 1\n",
      "Fib num: 3 fib values: 2\n"
     ]
    }
   ],
   "source": [
    "for i in range(0, 3):\n",
    "    new_generator = fib()\n",
    "    for j, fib_val in enumerate(new_generator):\n",
    "        print (\"Fib num: \" + str(j) + \" fib values: \" + str(fib_val))"
   ]
  },
  {
   "cell_type": "markdown",
   "metadata": {},
   "source": [
    "А вот так уже нельзя."
   ]
  },
  {
   "cell_type": "code",
   "execution_count": 5,
   "metadata": {},
   "outputs": [
    {
     "name": "stdout",
     "output_type": "stream",
     "text": [
      "Fib num: 0 fib values: 0\n",
      "Fib num: 1 fib values: 1\n",
      "Fib num: 2 fib values: 1\n",
      "Fib num: 3 fib values: 2\n"
     ]
    }
   ],
   "source": [
    "new_generator = fib()\n",
    "for i in range(0, 3):\n",
    "    for j, fib_val in enumerate(new_generator):\n",
    "        print (\"Fib num: \" + str(j) + \" fib values: \" + str(fib_val))"
   ]
  },
  {
   "cell_type": "markdown",
   "metadata": {},
   "source": [
    "Концепция крайне удобная для обучения  моделей $-$ у Вас есть некий источник данных, который Вам выдает их кусками, и Вам совершенно все равно откуда он их берет. Под ним может скрывать как массив в оперативной памяти, как файл на жестком диске, так и SQL база данных. Вы сами данные никуда не сохраняете, оперативную память экономите."
   ]
  },
  {
   "cell_type": "markdown",
   "metadata": {},
   "source": [
    "Если Вам понравилась идея с генераторами, то Вы можете реализовать свой, используя прототип batch_generator. В нем Вам нужно выдавать батчи признаков и ответов для каждой новой итерации спуска. Если не понравилась идея, то можете реализовывать SGD или mini-batch GD без генераторов."
   ]
  },
  {
   "cell_type": "code",
   "execution_count": 35,
   "metadata": {},
   "outputs": [],
   "source": [
    "def batch_generator(X, y, shuffle=True, batch_size=1):\n",
    "    \"\"\"\n",
    "    Гератор новых батчей для обучения\n",
    "    X          - матрица объекты-признаки\n",
    "    y_batch    - вектор ответов\n",
    "    shuffle    - нужно ли случайно перемешивать выборку\n",
    "    batch_size - размер батча ( 1 это SGD, > 1 mini-batch GD)\n",
    "    Генерирует подвыборку для итерации спуска (X_batch, y_batch)\n",
    "    \"\"\"\n",
    "\n",
    "    if shuffle:\n",
    "        index = np.random.permutation(y.shape[0])\n",
    "    for i in range(y.shape[0] // batch_size):\n",
    "        X_batch = X[index[i*batch_size:(i+1)*batch_size]]\n",
    "        y_batch = y[index[i*batch_size:(i+1)*batch_size]]\n",
    "        yield (X_batch, y_batch)\n",
    "\n",
    "# Теперь можно сделать генератор по данным ()\n",
    "#  my_batch_generator = batch_generator(X, y, shuffle=True, batch_size=1):"
   ]
  },
  {
   "cell_type": "code",
   "execution_count": 51,
   "metadata": {},
   "outputs": [],
   "source": [
    "# %%pycodestyle\n",
    "from sklearn.base import BaseEstimator, ClassifierMixin\n",
    "\n",
    "\n",
    "def sigmoid(x):\n",
    "    \"\"\"\n",
    "    Вычисляем значение сигмоида.\n",
    "    X - выход линейной модели\n",
    "    \"\"\"\n",
    "    sigm_value_x = 1 / (1 + np.exp(-x))\n",
    "    return sigm_value_x\n",
    "\n",
    "\n",
    "class MySGDClassifier(BaseEstimator, ClassifierMixin):\n",
    "\n",
    "    def __init__(self, batch_generator, C=1,\n",
    "                 alpha=0.01, max_epoch=10,\n",
    "                 model_type='lin_reg',\n",
    "                 batch_size=1):\n",
    "        \"\"\"\n",
    "        batch_generator -- функция генератор, которой будем создавать батчи\n",
    "        C - коэф. регуляризации\n",
    "        alpha - скорость спуска\n",
    "        max_epoch - максимальное количество эпох\n",
    "        model_type - тим модели, lin_reg или log_reg\n",
    "        \"\"\"\n",
    "        self.C = C\n",
    "        self.alpha = alpha\n",
    "        self.max_epoch = max_epoch\n",
    "        self.batch_generator = batch_generator\n",
    "        self.errors_log = {'iter' : [], 'loss' : []}\n",
    "        self.model_type = model_type\n",
    "        self.batch_size = batch_size\n",
    "\n",
    "    def calc_loss(self, X_batch, y_batch):\n",
    "        \"\"\"\n",
    "        Считаем функцию потерь по батчу\n",
    "        X_batch - матрица объекты-признаки по батчу\n",
    "        y_batch - вектор ответов по батчу\n",
    "        Не забудте тип модели (линейная или логистическая регрессия)!\n",
    "        \"\"\"\n",
    "        n = y_batch.shape[0]\n",
    "        w = np.copy(self.weights)\n",
    "        w[0] = 0\n",
    "        if self.model_type != \"log_loss\":\n",
    "            loss = (np.dot(X_batch, self.weights) - y_batch) ** 2 / n\n",
    "        else:\n",
    "            p = sigmoid(np.dot(X_batch, self.weights))  # сигмоида\n",
    "            loss = -(1 / n) * ((y_batch * np.log(p))\n",
    "                               + (1 - y_batch) * np.log(1 - p))\n",
    "        return loss + (1 / self.C) * np.sum(w ** 2)\n",
    "\n",
    "    def calc_loss_grad(self, X_batch, y_batch):\n",
    "        \"\"\"\n",
    "        Считаем  градиент функции потерь по батчу\n",
    "        (то что Вы вывели в задании 1)\n",
    "        X_batch - матрица объекты-признаки по батчу\n",
    "        y_batch - вектор ответов по батчу\n",
    "        Не забудте тип модели (линейная или логистическая регрессия)!\n",
    "        \"\"\"\n",
    "        n = y_batch.shape[0]\n",
    "        w = np.copy(self.weights)\n",
    "        w[0] = 0\n",
    "        if (self.model_type == 'lin_reg'):\n",
    "            loss_grad = (2 / n) * np.dot((\n",
    "                np.dot(X_batch, self.weights) - y_batch), X_batch)\n",
    "        else:\n",
    "            sigm = sigmoid(np.dot(X_batch, self.weights))\n",
    "            loss_grad = (1 / n) * np.dot((sigm - y_batch), X_batch)\n",
    "        return loss_grad + 2 / self.C * w\n",
    "\n",
    "    def update_weights(self, new_grad):\n",
    "        \"\"\"\n",
    "        Обновляем вектор весов\n",
    "        new_grad - градиент по батчу\n",
    "        \"\"\"\n",
    "        self.weights -= self.alpha*new_grad\n",
    "\n",
    "    def fit(self, X, y):\n",
    "        '''\n",
    "        Обучение модели\n",
    "        X - матрица объекты-признаки\n",
    "        y - вектор ответов\n",
    "        '''\n",
    "        X = np.hstack([np.ones((X.shape[0], 1)), X])  # добавляем w_0 = 1\n",
    "        self.weights = np.random.random(X.shape[1])\n",
    "        for n in range(0, self.max_epoch):\n",
    "            new_epoch_generator = self.batch_generator(\n",
    "                X, y, batch_size=self.batch_size)  # случайный батч\n",
    "            for batch_num, new_batch in enumerate(new_epoch_generator):\n",
    "                X_batch = new_batch[0]  # выборка\n",
    "                y_batch = new_batch[1]  # ответы на выобрке\n",
    "                batch_loss = self.calc_loss(X_batch, y_batch)\n",
    "                batch_grad = self.calc_loss_grad(X_batch, y_batch)\n",
    "                self.update_weights(batch_grad)\n",
    "                # Подумайте в каком месте стоит посчитать ошибку\n",
    "                # для отладки модели\n",
    "                # До градиентного шага или после\n",
    "                # batch_loss = self.calc_loss(X_batch, y_batch)\n",
    "                self.errors_log['iter'].append(batch_num)\n",
    "                self.errors_log['loss'].append(batch_loss)\n",
    "        return self\n",
    "\n",
    "    def predict(self, X):\n",
    "        '''\n",
    "        Предсказание класса\n",
    "        X - матрица объекты-признаки\n",
    "        Не забудте тип модели (линейная или логистическая регрессия)!\n",
    "        '''\n",
    "        X = np.hstack((np.ones((X.shape[0], 1)), X))\n",
    "        if self.model_type == \"log_loss\":\n",
    "            y_hat = sigmoid(np.dot(X, self.weights))\n",
    "        else:\n",
    "            y_hat = np.dot(X, self.weights)\n",
    "        # Желательно здесь использовать матричные операции\n",
    "        # между X и весами, например, numpy.dot\n",
    "        return y_hat"
   ]
  },
  {
   "cell_type": "markdown",
   "metadata": {},
   "source": [
    "Запустите обе регрессии на синтетических данных. \n",
    "\n",
    "\n",
    "Выведите полученные веса и нарисуйте разделяющую границу между классами (используйте только первых два веса для первых двух признаков X[:,0], X[:,1] для отображения в 2d пространство ).  "
   ]
  },
  {
   "cell_type": "code",
   "execution_count": 52,
   "metadata": {},
   "outputs": [],
   "source": [
    "# %%pycodestyle\n",
    "\n",
    "\n",
    "def plot_decision_boundary(clf):\n",
    "    X = np.linspace(-2, 2)\n",
    "    y = -( clf.weights[1] * X) / clf.weights[2]\n",
    "    plt.plot(X, y)"
   ]
  },
  {
   "cell_type": "code",
   "execution_count": 53,
   "metadata": {},
   "outputs": [
    {
     "data": {
      "text/plain": [
       "<matplotlib.collections.PathCollection at 0x7fe1b9199dc0>"
      ]
     },
     "execution_count": 53,
     "metadata": {},
     "output_type": "execute_result"
    },
    {
     "data": {
      "image/png": "[encoded data removed]",
      "text/plain": [
       "<Figure size 864x360 with 1 Axes>"
      ]
     },
     "metadata": {},
     "output_type": "display_data"
    }
   ],
   "source": [
    "# %%pycodestyle\n",
    "np.random.seed(0)\n",
    "\n",
    "C1 = np.array([[0., -0.8], [1.5, 0.8]])\n",
    "C2 = np.array([[1., -0.7], [2., 0.7]])\n",
    "gauss1 = np.dot(np.random.randn(200, 2) + np.array([5, 3]), C1)\n",
    "gauss2 = np.dot(np.random.randn(200, 2) + np.array([1.5, 0]), C2)\n",
    "\n",
    "X = np.vstack([gauss1, gauss2])\n",
    "\n",
    "mean = np.mean(X, axis=0)\n",
    "std = np.std(X, axis=0)\n",
    "X = (X - mean) / std\n",
    "\n",
    "y = np.r_[np.ones(200), np.zeros(200)]\n",
    "my_clf = MySGDClassifier(batch_generator,  alpha=0.01, C=1,\n",
    "                         max_epoch=10, batch_size=10, model_type='log_loss')\n",
    "my_clf.fit(X, y)\n",
    "my_clf1 = MySGDClassifier(batch_generator, alpha=0.01, C=1,\n",
    "                          max_epoch=10, batch_size=10, model_type='lin_reg')\n",
    "my_clf1.fit(X, y)\n",
    "plot_decision_boundary(my_clf)\n",
    "plot_decision_boundary(my_clf1)\n",
    "\n",
    "plt.scatter(X[:, 0], X[:, 1], c=y)"
   ]
  },
  {
   "cell_type": "markdown",
   "metadata": {},
   "source": [
    "Далее будем анализировать Ваш алгоритм. \n",
    "Для этих заданий используйте датасет ниже."
   ]
  },
  {
   "cell_type": "code",
   "execution_count": 41,
   "metadata": {},
   "outputs": [],
   "source": [
    "from sklearn.datasets import make_classification"
   ]
  },
  {
   "cell_type": "code",
   "execution_count": 54,
   "metadata": {},
   "outputs": [],
   "source": [
    "X, y = make_classification(n_samples=100000, n_features=10, \n",
    "                           n_informative=4, n_redundant=0, \n",
    "                           random_state=123, class_sep=1.0,\n",
    "                           n_clusters_per_class=1)"
   ]
  },
  {
   "cell_type": "markdown",
   "metadata": {},
   "source": [
    "Покажите сходимости обеих регрессией на этом датасете: изобразите график  функции потерь, усредненной по $N$ шагам градиентого спуска, для разных `alpha` (размеров шага). Разные `alpha` расположите на одном графике. \n",
    "\n",
    "$N$ можно брать 10, 50, 100 и т.д. "
   ]
  },
  {
   "cell_type": "code",
   "execution_count": 55,
   "metadata": {},
   "outputs": [
    {
     "data": {
      "text/plain": [
       "<matplotlib.legend.Legend at 0x7f7e5b22c7c0>"
      ]
     },
     "execution_count": 55,
     "metadata": {},
     "output_type": "execute_result"
    },
    {
     "data": {
      "image/png": "[encoded data removed]",
      "text/plain": [
       "<Figure size 864x360 with 1 Axes>"
      ]
     },
     "metadata": {},
     "output_type": "display_data"
    }
   ],
   "source": [
    "# %%pycodestyle\n",
    "N = 100\n",
    "alpha = [0.0005, 0.001, 0.01, 0.05]\n",
    "for i in alpha:\n",
    "    clf = MySGDClassifier(batch_generator, max_epoch=50,\n",
    "                          model_type='lin_reg', batch_size=100, alpha=i)\n",
    "    clf.fit(X, y)\n",
    "    loss = np.array([np.mean(clf.errors_log['loss'][i * N: (i + 1) * N])\n",
    "                     for i in range(len(clf.errors_log['loss']) // N)])\n",
    "    plt.plot(loss, label='alpha={}'.format(i))\n",
    "plt.legend()"
   ]
  },
  {
   "cell_type": "code",
   "execution_count": 17,
   "metadata": {},
   "outputs": [
    {
     "data": {
      "text/plain": [
       "<matplotlib.legend.Legend at 0x7ff661432ca0>"
      ]
     },
     "execution_count": 17,
     "metadata": {},
     "output_type": "execute_result"
    },
    {
     "data": {
      "image/png": "[encoded data removed]",
      "text/plain": [
       "<Figure size 864x360 with 1 Axes>"
      ]
     },
     "metadata": {},
     "output_type": "display_data"
    }
   ],
   "source": [
    "# %%pycodestyle\n",
    "N = 100\n",
    "alpha = [0.0005, 0.001, 0.01, 0.05]\n",
    "for i in alpha:\n",
    "    clf = MySGDClassifier(batch_generator, max_epoch=50,\n",
    "                          model_type='log_loss', batch_size=100, alpha=i)\n",
    "    clf.fit(X, y)\n",
    "    loss = np.array([np.mean(clf.errors_log['loss'][i * N: (i + 1) * N])\n",
    "                     for i in range(len(clf.errors_log['loss']) // N)])\n",
    "    plt.plot(loss, label='alpha={}'.format(i))\n",
    "plt.legend()"
   ]
  },
  {
   "cell_type": "markdown",
   "metadata": {},
   "source": [
    "Что Вы можете сказать про сходимость метода при различных `alpha`? Какое значение стоит выбирать для лучшей сходимости?"
   ]
  },
  {
   "cell_type": "markdown",
   "metadata": {},
   "source": [
    "Изобразите график среднего значения весов для обеих регрессий в зависимости от коеф. регуляризации С из `np.logspace(3, -3, 10)` "
   ]
  },
  {
   "cell_type": "code",
   "execution_count": 56,
   "metadata": {},
   "outputs": [
    {
     "name": "stdout",
     "output_type": "stream",
     "text": [
      "1000.0\n",
      "215.44346900318845\n",
      "46.4158883361278\n",
      "10.0\n",
      "2.1544346900318843\n",
      "0.4641588833612782\n",
      "0.1\n",
      "0.021544346900318867\n",
      "0.004641588833612782\n"
     ]
    },
    {
     "name": "stderr",
     "output_type": "stream",
     "text": [
      "<ipython-input-53-926f738f590a>:51: RuntimeWarning: overflow encountered in double_scalars\n",
      "  return loss + (1 / self.C) * np.sum(w ** 2)\n",
      "<ipython-input-53-926f738f590a>:46: RuntimeWarning: overflow encountered in square\n",
      "  loss = (np.dot(X_batch, self.weights) - y_batch) ** 2 / n\n",
      "<ipython-input-53-926f738f590a>:51: RuntimeWarning: overflow encountered in square\n",
      "  return loss + (1 / self.C) * np.sum(w ** 2)\n",
      "<ipython-input-53-926f738f590a>:70: RuntimeWarning: overflow encountered in multiply\n",
      "  return loss_grad + 2 / self.C * w\n"
     ]
    },
    {
     "name": "stdout",
     "output_type": "stream",
     "text": [
      "0.001\n"
     ]
    },
    {
     "data": {
      "text/plain": [
       "[<matplotlib.lines.Line2D at 0x7f7e5ae54520>]"
      ]
     },
     "execution_count": 56,
     "metadata": {},
     "output_type": "execute_result"
    },
    {
     "data": {
      "image/png": "[encoded data removed]",
      "text/plain": [
       "<Figure size 864x360 with 1 Axes>"
      ]
     },
     "metadata": {},
     "output_type": "display_data"
    }
   ],
   "source": [
    "# %%pycodestyle\n",
    "weights = []\n",
    "C = np.logspace(3, -3, 10)\n",
    "for i in C:\n",
    "    print(i)\n",
    "    clf = MySGDClassifier(batch_generator, model_type=\"lin_reg\", max_epoch=10, batch_size=100,\n",
    "                          alpha=0.01, C=i)\n",
    "    clf.fit(X, y)\n",
    "    weights.append(np.mean(clf.weights))\n",
    "plt.plot(C, weights)"
   ]
  },
  {
   "cell_type": "code",
   "execution_count": 57,
   "metadata": {},
   "outputs": [
    {
     "name": "stdout",
     "output_type": "stream",
     "text": [
      "1000.0\n",
      "215.44346900318845\n",
      "46.4158883361278\n",
      "10.0\n",
      "2.1544346900318843\n",
      "0.4641588833612782\n",
      "0.1\n",
      "0.021544346900318867\n",
      "0.004641588833612782\n",
      "0.001\n"
     ]
    },
    {
     "data": {
      "text/plain": [
       "[<matplotlib.lines.Line2D at 0x7f7e5aeb8b20>]"
      ]
     },
     "execution_count": 57,
     "metadata": {},
     "output_type": "execute_result"
    },
    {
     "data": {
      "image/png": "[encoded data removed]",
      "text/plain": [
       "<Figure size 864x360 with 1 Axes>"
      ]
     },
     "metadata": {},
     "output_type": "display_data"
    }
   ],
   "source": [
    "# %%pycodestyle\n",
    "weights = []\n",
    "C = np.logspace(3, -3, 10)\n",
    "for i in C:\n",
    "    print(i)\n",
    "    clf = MySGDClassifier(batch_generator, model_type=\"log_reg\", max_epoch=10, batch_size=100,\n",
    "                          alpha=0.001, C=i)\n",
    "    clf.fit(X, y)\n",
    "    weights.append(np.mean(clf.weights))\n",
    "plt.plot(C, weights)"
   ]
  },
  {
   "cell_type": "markdown",
   "metadata": {},
   "source": [
    "Довольны ли Вы, насколько сильно уменьшились Ваши веса? "
   ]
  },
  {
   "cell_type": "markdown",
   "metadata": {},
   "source": [
    "# Боевое применение (4  балла)\n",
    "\n",
    "**Защита данной части возможна только при преодолении в проекте бейзлайна Handmade baseline.**"
   ]
  },
  {
   "cell_type": "markdown",
   "metadata": {},
   "source": [
    "Давайте применим модель на итоговом проекте! Датасет сделаем точно таким же образом, как было показано в project_overview.ipynb\n",
    "\n",
    "Применим обе регрессии, подберем для них параметры и сравним качество. Может быть Вы еще одновременно с решением домашней работы подрастете на лидерборде!"
   ]
  },
  {
   "cell_type": "code",
   "execution_count": 37,
   "metadata": {},
   "outputs": [
    {
     "name": "stdout",
     "output_type": "stream",
     "text": [
      "28026\n"
     ]
    }
   ],
   "source": [
    "doc_to_title = {}\n",
    "with open('docs_titles.tsv') as f:\n",
    "    for num_line, line in enumerate(f):\n",
    "        if num_line == 0:\n",
    "            continue\n",
    "        data = line.strip().split('\\t', 1)\n",
    "        doc_id = int(data[0])\n",
    "        if len(data) == 1:\n",
    "            title = ''\n",
    "        else:\n",
    "            title = data[1]\n",
    "        doc_to_title[doc_id] = title\n",
    "print (len(doc_to_title))"
   ]
  },
  {
   "cell_type": "code",
   "execution_count": 38,
   "metadata": {},
   "outputs": [],
   "source": [
    "import pandas as pd\n",
    "train_data = pd.read_csv('train_groups.csv')\n",
    "traingroups_titledata = {}\n",
    "for i in range(len(train_data)):\n",
    "    new_doc = train_data.iloc[i]\n",
    "    doc_group = new_doc['group_id']\n",
    "    doc_id = new_doc['doc_id']\n",
    "    target = new_doc['target']\n",
    "    title = doc_to_title[doc_id]\n",
    "    if doc_group not in traingroups_titledata:\n",
    "        traingroups_titledata[doc_group] = []\n",
    "    traingroups_titledata[doc_group].append((doc_id, title, target))"
   ]
  },
  {
   "cell_type": "code",
   "execution_count": 39,
   "metadata": {},
   "outputs": [
    {
     "name": "stdout",
     "output_type": "stream",
     "text": [
      "(11690, 15) (11690,) (11690,)\n"
     ]
    }
   ],
   "source": [
    "import numpy as np\n",
    "y_train = []\n",
    "X_train = []\n",
    "groups_train = []\n",
    "for new_group in traingroups_titledata:\n",
    "    docs = traingroups_titledata[new_group]\n",
    "    for k, (doc_id, title, target_id) in enumerate(docs):\n",
    "        y_train.append(target_id)\n",
    "        groups_train.append(new_group)\n",
    "        all_dist = []\n",
    "        words = set(title.strip().split())\n",
    "        for j in range(0, len(docs)):\n",
    "            if k == j:\n",
    "                continue\n",
    "            doc_id_j, title_j, target_j = docs[j]\n",
    "            words_j = set(title_j.strip().split())\n",
    "            all_dist.append(len(words.intersection(words_j)))\n",
    "        X_train.append(sorted(all_dist, reverse=True)[0:15])\n",
    "X_train = np.array(X_train)\n",
    "y_train = np.array(y_train)\n",
    "groups_train = np.array(groups_train)\n",
    "print(X_train.shape, y_train.shape, groups_train.shape)"
   ]
  },
  {
   "cell_type": "markdown",
   "metadata": {},
   "source": [
    "Подберите размер батча для обучения. Линейная модель не должна учиться дольше нескольких минут. \n",
    "\n",
    "Не забывайте использовать скейлер!"
   ]
  },
  {
   "cell_type": "code",
   "execution_count": 40,
   "metadata": {},
   "outputs": [],
   "source": [
    "from sklearn.metrics import f1_score\n",
    "from sklearn.linear_model import LinearRegression\n",
    "from sklearn.preprocessing import StandardScaler\n",
    "\n",
    "from sklearn.metrics import f1_score\n",
    "from sklearn.model_selection import StratifiedKFold, KFold\n",
    "from sklearn.metrics import roc_auc_score"
   ]
  },
  {
   "cell_type": "code",
   "execution_count": 41,
   "metadata": {},
   "outputs": [],
   "source": [
    "# %%pycodestyle\n",
    "scaler = StandardScaler()\n",
    "X_train = scaler.fit_transform(X_train)\n",
    "kf = KFold(n_splits=5)"
   ]
  },
  {
   "cell_type": "markdown",
   "metadata": {},
   "source": [
    "Разбейте данные на обучение и валидацию. Подберите параметры C, alpha, max_epoch, model_type на валидации (Вы же помните, как правильно в этой задаче делать валидацию?)"
   ]
  },
  {
   "cell_type": "code",
   "execution_count": 27,
   "metadata": {},
   "outputs": [
    {
     "name": "stdout",
     "output_type": "stream",
     "text": [
      "0.7681338096662087\n"
     ]
    },
    {
     "name": "stderr",
     "output_type": "stream",
     "text": [
      "<ipython-input-7-e44912e58696>:50: RuntimeWarning: divide by zero encountered in log\n",
      "  + (1 - y_batch) * np.log(1 - p))\n",
      "<ipython-input-7-e44912e58696>:50: RuntimeWarning: divide by zero encountered in log\n",
      "  + (1 - y_batch) * np.log(1 - p))\n",
      "<ipython-input-7-e44912e58696>:50: RuntimeWarning: invalid value encountered in multiply\n",
      "  + (1 - y_batch) * np.log(1 - p))\n",
      "<ipython-input-7-e44912e58696>:50: RuntimeWarning: divide by zero encountered in log\n",
      "  + (1 - y_batch) * np.log(1 - p))\n",
      "<ipython-input-7-e44912e58696>:50: RuntimeWarning: invalid value encountered in multiply\n",
      "  + (1 - y_batch) * np.log(1 - p))\n"
     ]
    },
    {
     "name": "stdout",
     "output_type": "stream",
     "text": [
      "0.7988702777715748\n",
      "0.7961379563240536\n"
     ]
    },
    {
     "name": "stderr",
     "output_type": "stream",
     "text": [
      "<ipython-input-7-e44912e58696>:50: RuntimeWarning: divide by zero encountered in log\n",
      "  + (1 - y_batch) * np.log(1 - p))\n",
      "<ipython-input-7-e44912e58696>:50: RuntimeWarning: invalid value encountered in multiply\n",
      "  + (1 - y_batch) * np.log(1 - p))\n",
      "<ipython-input-7-e44912e58696>:50: RuntimeWarning: divide by zero encountered in log\n",
      "  + (1 - y_batch) * np.log(1 - p))\n",
      "<ipython-input-7-e44912e58696>:50: RuntimeWarning: invalid value encountered in multiply\n",
      "  + (1 - y_batch) * np.log(1 - p))\n",
      "<ipython-input-7-e44912e58696>:50: RuntimeWarning: divide by zero encountered in log\n",
      "  + (1 - y_batch) * np.log(1 - p))\n",
      "<ipython-input-7-e44912e58696>:50: RuntimeWarning: invalid value encountered in multiply\n",
      "  + (1 - y_batch) * np.log(1 - p))\n"
     ]
    },
    {
     "name": "stdout",
     "output_type": "stream",
     "text": [
      "0.7987029227016325\n",
      "0.7996285446326342\n"
     ]
    },
    {
     "name": "stderr",
     "output_type": "stream",
     "text": [
      "<ipython-input-7-e44912e58696>:50: RuntimeWarning: divide by zero encountered in log\n",
      "  + (1 - y_batch) * np.log(1 - p))\n",
      "<ipython-input-7-e44912e58696>:50: RuntimeWarning: invalid value encountered in multiply\n",
      "  + (1 - y_batch) * np.log(1 - p))\n",
      "<ipython-input-7-e44912e58696>:50: RuntimeWarning: divide by zero encountered in log\n",
      "  + (1 - y_batch) * np.log(1 - p))\n"
     ]
    },
    {
     "name": "stdout",
     "output_type": "stream",
     "text": [
      "0.799327819347038\n",
      "0.799589360209714\n",
      "0.7992737299022374\n",
      "0.7995397249774406\n"
     ]
    },
    {
     "name": "stderr",
     "output_type": "stream",
     "text": [
      "<ipython-input-7-e44912e58696>:50: RuntimeWarning: divide by zero encountered in log\n",
      "  + (1 - y_batch) * np.log(1 - p))\n",
      "<ipython-input-7-e44912e58696>:50: RuntimeWarning: invalid value encountered in multiply\n",
      "  + (1 - y_batch) * np.log(1 - p))\n",
      "<ipython-input-7-e44912e58696>:50: RuntimeWarning: divide by zero encountered in log\n",
      "  + (1 - y_batch) * np.log(1 - p))\n",
      "<ipython-input-7-e44912e58696>:50: RuntimeWarning: invalid value encountered in multiply\n",
      "  + (1 - y_batch) * np.log(1 - p))\n",
      "<ipython-input-7-e44912e58696>:50: RuntimeWarning: divide by zero encountered in log\n",
      "  + (1 - y_batch) * np.log(1 - p))\n",
      "<ipython-input-7-e44912e58696>:50: RuntimeWarning: invalid value encountered in multiply\n",
      "  + (1 - y_batch) * np.log(1 - p))\n"
     ]
    },
    {
     "name": "stdout",
     "output_type": "stream",
     "text": [
      "0.799329701545447\n",
      "0.7996215397592854\n"
     ]
    },
    {
     "name": "stderr",
     "output_type": "stream",
     "text": [
      "<ipython-input-7-e44912e58696>:50: RuntimeWarning: divide by zero encountered in log\n",
      "  + (1 - y_batch) * np.log(1 - p))\n",
      "<ipython-input-7-e44912e58696>:50: RuntimeWarning: invalid value encountered in multiply\n",
      "  + (1 - y_batch) * np.log(1 - p))\n",
      "<ipython-input-7-e44912e58696>:50: RuntimeWarning: divide by zero encountered in log\n",
      "  + (1 - y_batch) * np.log(1 - p))\n",
      "<ipython-input-7-e44912e58696>:50: RuntimeWarning: invalid value encountered in multiply\n",
      "  + (1 - y_batch) * np.log(1 - p))\n",
      "<ipython-input-7-e44912e58696>:50: RuntimeWarning: divide by zero encountered in log\n",
      "  + (1 - y_batch) * np.log(1 - p))\n"
     ]
    },
    {
     "name": "stdout",
     "output_type": "stream",
     "text": [
      "0.7993493092719934\n",
      "0.7995692692825519\n"
     ]
    },
    {
     "name": "stderr",
     "output_type": "stream",
     "text": [
      "<ipython-input-7-e44912e58696>:50: RuntimeWarning: divide by zero encountered in log\n",
      "  + (1 - y_batch) * np.log(1 - p))\n",
      "<ipython-input-7-e44912e58696>:50: RuntimeWarning: invalid value encountered in multiply\n",
      "  + (1 - y_batch) * np.log(1 - p))\n",
      "<ipython-input-7-e44912e58696>:50: RuntimeWarning: divide by zero encountered in log\n",
      "  + (1 - y_batch) * np.log(1 - p))\n",
      "<ipython-input-7-e44912e58696>:50: RuntimeWarning: invalid value encountered in multiply\n",
      "  + (1 - y_batch) * np.log(1 - p))\n"
     ]
    },
    {
     "name": "stdout",
     "output_type": "stream",
     "text": [
      "0.7993329384355595\n",
      "0.7996274253471485\n"
     ]
    },
    {
     "name": "stderr",
     "output_type": "stream",
     "text": [
      "<ipython-input-7-e44912e58696>:50: RuntimeWarning: divide by zero encountered in log\n",
      "  + (1 - y_batch) * np.log(1 - p))\n",
      "<ipython-input-7-e44912e58696>:50: RuntimeWarning: invalid value encountered in multiply\n",
      "  + (1 - y_batch) * np.log(1 - p))\n",
      "<ipython-input-7-e44912e58696>:50: RuntimeWarning: divide by zero encountered in log\n",
      "  + (1 - y_batch) * np.log(1 - p))\n",
      "<ipython-input-7-e44912e58696>:50: RuntimeWarning: invalid value encountered in multiply\n",
      "  + (1 - y_batch) * np.log(1 - p))\n"
     ]
    },
    {
     "name": "stdout",
     "output_type": "stream",
     "text": [
      "0.7993284878938478\n",
      "0.7995317250081607\n"
     ]
    },
    {
     "name": "stderr",
     "output_type": "stream",
     "text": [
      "<ipython-input-7-e44912e58696>:50: RuntimeWarning: divide by zero encountered in log\n",
      "  + (1 - y_batch) * np.log(1 - p))\n",
      "<ipython-input-7-e44912e58696>:50: RuntimeWarning: invalid value encountered in multiply\n",
      "  + (1 - y_batch) * np.log(1 - p))\n",
      "<ipython-input-7-e44912e58696>:50: RuntimeWarning: divide by zero encountered in log\n",
      "  + (1 - y_batch) * np.log(1 - p))\n",
      "<ipython-input-7-e44912e58696>:50: RuntimeWarning: invalid value encountered in multiply\n",
      "  + (1 - y_batch) * np.log(1 - p))\n",
      "<ipython-input-7-e44912e58696>:50: RuntimeWarning: divide by zero encountered in log\n",
      "  + (1 - y_batch) * np.log(1 - p))\n"
     ]
    },
    {
     "name": "stdout",
     "output_type": "stream",
     "text": [
      "0.79934332899229\n",
      "0.7271436274128543\n"
     ]
    },
    {
     "name": "stderr",
     "output_type": "stream",
     "text": [
      "<ipython-input-7-e44912e58696>:50: RuntimeWarning: divide by zero encountered in log\n",
      "  + (1 - y_batch) * np.log(1 - p))\n",
      "<ipython-input-7-e44912e58696>:50: RuntimeWarning: invalid value encountered in multiply\n",
      "  + (1 - y_batch) * np.log(1 - p))\n",
      "<ipython-input-7-e44912e58696>:50: RuntimeWarning: divide by zero encountered in log\n",
      "  + (1 - y_batch) * np.log(1 - p))\n",
      "<ipython-input-7-e44912e58696>:50: RuntimeWarning: divide by zero encountered in log\n",
      "  + (1 - y_batch) * np.log(1 - p))\n",
      "<ipython-input-7-e44912e58696>:50: RuntimeWarning: invalid value encountered in multiply\n",
      "  + (1 - y_batch) * np.log(1 - p))\n"
     ]
    },
    {
     "name": "stdout",
     "output_type": "stream",
     "text": [
      "0.7986743473271838\n",
      "0.7290725455684888\n"
     ]
    },
    {
     "name": "stderr",
     "output_type": "stream",
     "text": [
      "<ipython-input-7-e44912e58696>:50: RuntimeWarning: divide by zero encountered in log\n",
      "  + (1 - y_batch) * np.log(1 - p))\n",
      "<ipython-input-7-e44912e58696>:50: RuntimeWarning: invalid value encountered in multiply\n",
      "  + (1 - y_batch) * np.log(1 - p))\n",
      "<ipython-input-7-e44912e58696>:50: RuntimeWarning: divide by zero encountered in log\n",
      "  + (1 - y_batch) * np.log(1 - p))\n",
      "<ipython-input-7-e44912e58696>:50: RuntimeWarning: invalid value encountered in multiply\n",
      "  + (1 - y_batch) * np.log(1 - p))\n",
      "<ipython-input-7-e44912e58696>:50: RuntimeWarning: divide by zero encountered in log\n",
      "  + (1 - y_batch) * np.log(1 - p))\n",
      "<ipython-input-7-e44912e58696>:50: RuntimeWarning: invalid value encountered in multiply\n",
      "  + (1 - y_batch) * np.log(1 - p))\n"
     ]
    },
    {
     "name": "stdout",
     "output_type": "stream",
     "text": [
      "0.7990765286478749\n",
      "0.7932738622858071\n"
     ]
    },
    {
     "name": "stderr",
     "output_type": "stream",
     "text": [
      "<ipython-input-7-e44912e58696>:50: RuntimeWarning: divide by zero encountered in log\n",
      "  + (1 - y_batch) * np.log(1 - p))\n",
      "<ipython-input-7-e44912e58696>:50: RuntimeWarning: invalid value encountered in multiply\n",
      "  + (1 - y_batch) * np.log(1 - p))\n",
      "<ipython-input-7-e44912e58696>:50: RuntimeWarning: divide by zero encountered in log\n",
      "  + (1 - y_batch) * np.log(1 - p))\n",
      "<ipython-input-7-e44912e58696>:50: RuntimeWarning: invalid value encountered in multiply\n",
      "  + (1 - y_batch) * np.log(1 - p))\n"
     ]
    },
    {
     "name": "stdout",
     "output_type": "stream",
     "text": [
      "0.7978761675390296\n",
      "0.7644719820247979\n"
     ]
    },
    {
     "name": "stderr",
     "output_type": "stream",
     "text": [
      "<ipython-input-7-e44912e58696>:50: RuntimeWarning: divide by zero encountered in log\n",
      "  + (1 - y_batch) * np.log(1 - p))\n",
      "<ipython-input-7-e44912e58696>:50: RuntimeWarning: invalid value encountered in multiply\n",
      "  + (1 - y_batch) * np.log(1 - p))\n",
      "<ipython-input-7-e44912e58696>:50: RuntimeWarning: divide by zero encountered in log\n",
      "  + (1 - y_batch) * np.log(1 - p))\n",
      "<ipython-input-7-e44912e58696>:50: RuntimeWarning: invalid value encountered in multiply\n",
      "  + (1 - y_batch) * np.log(1 - p))\n",
      "<ipython-input-7-e44912e58696>:50: RuntimeWarning: divide by zero encountered in log\n",
      "  + (1 - y_batch) * np.log(1 - p))\n",
      "<ipython-input-7-e44912e58696>:50: RuntimeWarning: invalid value encountered in multiply\n",
      "  + (1 - y_batch) * np.log(1 - p))\n"
     ]
    },
    {
     "name": "stdout",
     "output_type": "stream",
     "text": [
      "0.7965604310312641\n",
      "0.7933755744958668\n"
     ]
    },
    {
     "name": "stderr",
     "output_type": "stream",
     "text": [
      "<ipython-input-7-e44912e58696>:50: RuntimeWarning: divide by zero encountered in log\n",
      "  + (1 - y_batch) * np.log(1 - p))\n",
      "<ipython-input-7-e44912e58696>:50: RuntimeWarning: invalid value encountered in multiply\n",
      "  + (1 - y_batch) * np.log(1 - p))\n",
      "<ipython-input-7-e44912e58696>:50: RuntimeWarning: divide by zero encountered in log\n",
      "  + (1 - y_batch) * np.log(1 - p))\n",
      "<ipython-input-7-e44912e58696>:50: RuntimeWarning: invalid value encountered in multiply\n",
      "  + (1 - y_batch) * np.log(1 - p))\n",
      "<ipython-input-7-e44912e58696>:50: RuntimeWarning: divide by zero encountered in log\n",
      "  + (1 - y_batch) * np.log(1 - p))\n",
      "<ipython-input-7-e44912e58696>:50: RuntimeWarning: invalid value encountered in multiply\n",
      "  + (1 - y_batch) * np.log(1 - p))\n",
      "<ipython-input-7-e44912e58696>:50: RuntimeWarning: divide by zero encountered in log\n",
      "  + (1 - y_batch) * np.log(1 - p))\n",
      "<ipython-input-7-e44912e58696>:50: RuntimeWarning: invalid value encountered in multiply\n",
      "  + (1 - y_batch) * np.log(1 - p))\n"
     ]
    },
    {
     "name": "stdout",
     "output_type": "stream",
     "text": [
      "0.7989709735093042\n",
      "0.7994579389160521\n"
     ]
    },
    {
     "name": "stderr",
     "output_type": "stream",
     "text": [
      "<ipython-input-7-e44912e58696>:50: RuntimeWarning: divide by zero encountered in log\n",
      "  + (1 - y_batch) * np.log(1 - p))\n",
      "<ipython-input-7-e44912e58696>:50: RuntimeWarning: invalid value encountered in multiply\n",
      "  + (1 - y_batch) * np.log(1 - p))\n",
      "<ipython-input-7-e44912e58696>:50: RuntimeWarning: divide by zero encountered in log\n",
      "  + (1 - y_batch) * np.log(1 - p))\n"
     ]
    },
    {
     "name": "stdout",
     "output_type": "stream",
     "text": [
      "0.7997169657454497\n",
      "0.7928023268793085\n"
     ]
    },
    {
     "name": "stderr",
     "output_type": "stream",
     "text": [
      "<ipython-input-7-e44912e58696>:50: RuntimeWarning: divide by zero encountered in log\n",
      "  + (1 - y_batch) * np.log(1 - p))\n",
      "<ipython-input-7-e44912e58696>:50: RuntimeWarning: invalid value encountered in multiply\n",
      "  + (1 - y_batch) * np.log(1 - p))\n",
      "<ipython-input-7-e44912e58696>:50: RuntimeWarning: divide by zero encountered in log\n",
      "  + (1 - y_batch) * np.log(1 - p))\n",
      "<ipython-input-7-e44912e58696>:50: RuntimeWarning: divide by zero encountered in log\n",
      "  + (1 - y_batch) * np.log(1 - p))\n",
      "<ipython-input-7-e44912e58696>:50: RuntimeWarning: invalid value encountered in multiply\n",
      "  + (1 - y_batch) * np.log(1 - p))\n"
     ]
    },
    {
     "name": "stdout",
     "output_type": "stream",
     "text": [
      "0.7994649109429879\n",
      "0.7990240893542885\n"
     ]
    },
    {
     "name": "stderr",
     "output_type": "stream",
     "text": [
      "<ipython-input-7-e44912e58696>:50: RuntimeWarning: divide by zero encountered in log\n",
      "  + (1 - y_batch) * np.log(1 - p))\n",
      "<ipython-input-7-e44912e58696>:50: RuntimeWarning: invalid value encountered in multiply\n",
      "  + (1 - y_batch) * np.log(1 - p))\n",
      "<ipython-input-7-e44912e58696>:50: RuntimeWarning: divide by zero encountered in log\n",
      "  + (1 - y_batch) * np.log(1 - p))\n",
      "<ipython-input-7-e44912e58696>:50: RuntimeWarning: invalid value encountered in multiply\n",
      "  + (1 - y_batch) * np.log(1 - p))\n",
      "<ipython-input-7-e44912e58696>:50: RuntimeWarning: divide by zero encountered in log\n",
      "  + (1 - y_batch) * np.log(1 - p))\n"
     ]
    },
    {
     "name": "stdout",
     "output_type": "stream",
     "text": [
      "0.7997507031481048\n",
      "0.7995331100253245\n"
     ]
    },
    {
     "name": "stderr",
     "output_type": "stream",
     "text": [
      "<ipython-input-7-e44912e58696>:50: RuntimeWarning: divide by zero encountered in log\n",
      "  + (1 - y_batch) * np.log(1 - p))\n",
      "<ipython-input-7-e44912e58696>:50: RuntimeWarning: invalid value encountered in multiply\n",
      "  + (1 - y_batch) * np.log(1 - p))\n",
      "<ipython-input-7-e44912e58696>:50: RuntimeWarning: divide by zero encountered in log\n",
      "  + (1 - y_batch) * np.log(1 - p))\n",
      "<ipython-input-7-e44912e58696>:50: RuntimeWarning: invalid value encountered in multiply\n",
      "  + (1 - y_batch) * np.log(1 - p))\n",
      "<ipython-input-7-e44912e58696>:50: RuntimeWarning: divide by zero encountered in log\n",
      "  + (1 - y_batch) * np.log(1 - p))\n",
      "<ipython-input-7-e44912e58696>:50: RuntimeWarning: invalid value encountered in multiply\n",
      "  + (1 - y_batch) * np.log(1 - p))\n",
      "<ipython-input-7-e44912e58696>:50: RuntimeWarning: divide by zero encountered in log\n",
      "  + (1 - y_batch) * np.log(1 - p))\n",
      "<ipython-input-7-e44912e58696>:50: RuntimeWarning: invalid value encountered in multiply\n",
      "  + (1 - y_batch) * np.log(1 - p))\n"
     ]
    },
    {
     "name": "stdout",
     "output_type": "stream",
     "text": [
      "0.7996904297452194\n",
      "0.6987860144234764\n"
     ]
    },
    {
     "name": "stderr",
     "output_type": "stream",
     "text": [
      "<ipython-input-7-e44912e58696>:50: RuntimeWarning: divide by zero encountered in log\n",
      "  + (1 - y_batch) * np.log(1 - p))\n",
      "<ipython-input-7-e44912e58696>:50: RuntimeWarning: invalid value encountered in multiply\n",
      "  + (1 - y_batch) * np.log(1 - p))\n",
      "<ipython-input-7-e44912e58696>:50: RuntimeWarning: divide by zero encountered in log\n",
      "  + (1 - y_batch) * np.log(1 - p))\n",
      "<ipython-input-7-e44912e58696>:50: RuntimeWarning: invalid value encountered in multiply\n",
      "  + (1 - y_batch) * np.log(1 - p))\n",
      "<ipython-input-7-e44912e58696>:50: RuntimeWarning: divide by zero encountered in log\n",
      "  + (1 - y_batch) * np.log(1 - p))\n",
      "<ipython-input-7-e44912e58696>:50: RuntimeWarning: invalid value encountered in multiply\n",
      "  + (1 - y_batch) * np.log(1 - p))\n"
     ]
    },
    {
     "name": "stdout",
     "output_type": "stream",
     "text": [
      "0.7994488828793798\n",
      "0.7247275987488989\n"
     ]
    },
    {
     "name": "stderr",
     "output_type": "stream",
     "text": [
      "<ipython-input-7-e44912e58696>:50: RuntimeWarning: divide by zero encountered in log\n",
      "  + (1 - y_batch) * np.log(1 - p))\n",
      "<ipython-input-7-e44912e58696>:50: RuntimeWarning: invalid value encountered in multiply\n",
      "  + (1 - y_batch) * np.log(1 - p))\n",
      "<ipython-input-7-e44912e58696>:50: RuntimeWarning: divide by zero encountered in log\n",
      "  + (1 - y_batch) * np.log(1 - p))\n",
      "<ipython-input-7-e44912e58696>:50: RuntimeWarning: invalid value encountered in multiply\n",
      "  + (1 - y_batch) * np.log(1 - p))\n"
     ]
    },
    {
     "name": "stdout",
     "output_type": "stream",
     "text": [
      "0.7975964672304376\n",
      "0.7713013750126236\n"
     ]
    },
    {
     "name": "stderr",
     "output_type": "stream",
     "text": [
      "<ipython-input-7-e44912e58696>:50: RuntimeWarning: divide by zero encountered in log\n",
      "  + (1 - y_batch) * np.log(1 - p))\n",
      "<ipython-input-7-e44912e58696>:50: RuntimeWarning: invalid value encountered in multiply\n",
      "  + (1 - y_batch) * np.log(1 - p))\n",
      "<ipython-input-7-e44912e58696>:50: RuntimeWarning: divide by zero encountered in log\n",
      "  + (1 - y_batch) * np.log(1 - p))\n",
      "<ipython-input-7-e44912e58696>:50: RuntimeWarning: invalid value encountered in multiply\n",
      "  + (1 - y_batch) * np.log(1 - p))\n",
      "<ipython-input-7-e44912e58696>:50: RuntimeWarning: divide by zero encountered in log\n",
      "  + (1 - y_batch) * np.log(1 - p))\n",
      "<ipython-input-7-e44912e58696>:50: RuntimeWarning: invalid value encountered in multiply\n",
      "  + (1 - y_batch) * np.log(1 - p))\n"
     ]
    },
    {
     "name": "stdout",
     "output_type": "stream",
     "text": [
      "0.7915377536576753\n",
      "0.7557211865904112\n"
     ]
    },
    {
     "name": "stderr",
     "output_type": "stream",
     "text": [
      "<ipython-input-7-e44912e58696>:50: RuntimeWarning: divide by zero encountered in log\n",
      "  + (1 - y_batch) * np.log(1 - p))\n",
      "<ipython-input-7-e44912e58696>:50: RuntimeWarning: invalid value encountered in multiply\n",
      "  + (1 - y_batch) * np.log(1 - p))\n",
      "<ipython-input-7-e44912e58696>:50: RuntimeWarning: divide by zero encountered in log\n",
      "  + (1 - y_batch) * np.log(1 - p))\n",
      "<ipython-input-7-e44912e58696>:50: RuntimeWarning: invalid value encountered in multiply\n",
      "  + (1 - y_batch) * np.log(1 - p))\n"
     ]
    },
    {
     "name": "stdout",
     "output_type": "stream",
     "text": [
      "0.7952405513493348\n",
      "0.7654593557963633\n"
     ]
    },
    {
     "name": "stderr",
     "output_type": "stream",
     "text": [
      "<ipython-input-7-e44912e58696>:50: RuntimeWarning: divide by zero encountered in log\n",
      "  + (1 - y_batch) * np.log(1 - p))\n",
      "<ipython-input-7-e44912e58696>:50: RuntimeWarning: invalid value encountered in multiply\n",
      "  + (1 - y_batch) * np.log(1 - p))\n"
     ]
    },
    {
     "name": "stdout",
     "output_type": "stream",
     "text": [
      "0.7945783997978566\n",
      "0.7954662607843574\n"
     ]
    },
    {
     "name": "stderr",
     "output_type": "stream",
     "text": [
      "<ipython-input-7-e44912e58696>:50: RuntimeWarning: divide by zero encountered in log\n",
      "  + (1 - y_batch) * np.log(1 - p))\n",
      "<ipython-input-7-e44912e58696>:50: RuntimeWarning: invalid value encountered in multiply\n",
      "  + (1 - y_batch) * np.log(1 - p))\n",
      "<ipython-input-7-e44912e58696>:50: RuntimeWarning: divide by zero encountered in log\n",
      "  + (1 - y_batch) * np.log(1 - p))\n",
      "<ipython-input-7-e44912e58696>:50: RuntimeWarning: invalid value encountered in multiply\n",
      "  + (1 - y_batch) * np.log(1 - p))\n",
      "<ipython-input-7-e44912e58696>:50: RuntimeWarning: divide by zero encountered in log\n",
      "  + (1 - y_batch) * np.log(1 - p))\n",
      "<ipython-input-7-e44912e58696>:50: RuntimeWarning: invalid value encountered in multiply\n",
      "  + (1 - y_batch) * np.log(1 - p))\n",
      "<ipython-input-7-e44912e58696>:50: RuntimeWarning: divide by zero encountered in log\n",
      "  + (1 - y_batch) * np.log(1 - p))\n",
      "<ipython-input-7-e44912e58696>:50: RuntimeWarning: invalid value encountered in multiply\n",
      "  + (1 - y_batch) * np.log(1 - p))\n"
     ]
    },
    {
     "name": "stdout",
     "output_type": "stream",
     "text": [
      "0.7983839735598248\n",
      "0.7592775592244596\n"
     ]
    },
    {
     "name": "stderr",
     "output_type": "stream",
     "text": [
      "<ipython-input-7-e44912e58696>:50: RuntimeWarning: divide by zero encountered in log\n",
      "  + (1 - y_batch) * np.log(1 - p))\n",
      "<ipython-input-7-e44912e58696>:50: RuntimeWarning: invalid value encountered in multiply\n",
      "  + (1 - y_batch) * np.log(1 - p))\n",
      "<ipython-input-7-e44912e58696>:50: RuntimeWarning: divide by zero encountered in log\n",
      "  + (1 - y_batch) * np.log(1 - p))\n",
      "<ipython-input-7-e44912e58696>:50: RuntimeWarning: invalid value encountered in multiply\n",
      "  + (1 - y_batch) * np.log(1 - p))\n"
     ]
    },
    {
     "name": "stdout",
     "output_type": "stream",
     "text": [
      "0.792846969071153\n",
      "0.7831774583868955\n"
     ]
    },
    {
     "name": "stderr",
     "output_type": "stream",
     "text": [
      "<ipython-input-7-e44912e58696>:50: RuntimeWarning: divide by zero encountered in log\n",
      "  + (1 - y_batch) * np.log(1 - p))\n",
      "<ipython-input-7-e44912e58696>:50: RuntimeWarning: invalid value encountered in multiply\n",
      "  + (1 - y_batch) * np.log(1 - p))\n",
      "<ipython-input-7-e44912e58696>:50: RuntimeWarning: divide by zero encountered in log\n",
      "  + (1 - y_batch) * np.log(1 - p))\n",
      "<ipython-input-7-e44912e58696>:50: RuntimeWarning: invalid value encountered in multiply\n",
      "  + (1 - y_batch) * np.log(1 - p))\n",
      "<ipython-input-7-e44912e58696>:50: RuntimeWarning: divide by zero encountered in log\n",
      "  + (1 - y_batch) * np.log(1 - p))\n"
     ]
    },
    {
     "name": "stdout",
     "output_type": "stream",
     "text": [
      "0.7912233824646855\n",
      "0.797969545709601\n"
     ]
    },
    {
     "name": "stderr",
     "output_type": "stream",
     "text": [
      "<ipython-input-7-e44912e58696>:50: RuntimeWarning: divide by zero encountered in log\n",
      "  + (1 - y_batch) * np.log(1 - p))\n",
      "<ipython-input-7-e44912e58696>:50: RuntimeWarning: invalid value encountered in multiply\n",
      "  + (1 - y_batch) * np.log(1 - p))\n",
      "<ipython-input-7-e44912e58696>:50: RuntimeWarning: divide by zero encountered in log\n",
      "  + (1 - y_batch) * np.log(1 - p))\n",
      "<ipython-input-7-e44912e58696>:50: RuntimeWarning: invalid value encountered in multiply\n",
      "  + (1 - y_batch) * np.log(1 - p))\n",
      "<ipython-input-7-e44912e58696>:50: RuntimeWarning: divide by zero encountered in log\n",
      "  + (1 - y_batch) * np.log(1 - p))\n",
      "<ipython-input-7-e44912e58696>:50: RuntimeWarning: invalid value encountered in multiply\n",
      "  + (1 - y_batch) * np.log(1 - p))\n",
      "<ipython-input-7-e44912e58696>:50: RuntimeWarning: divide by zero encountered in log\n",
      "  + (1 - y_batch) * np.log(1 - p))\n",
      "<ipython-input-7-e44912e58696>:50: RuntimeWarning: invalid value encountered in multiply\n",
      "  + (1 - y_batch) * np.log(1 - p))\n"
     ]
    },
    {
     "name": "stdout",
     "output_type": "stream",
     "text": [
      "0.7998089988409629\n",
      "Score:  0.7998089988409629\n",
      "C:  100\n",
      "Alpha:  0.01\n",
      "Epoch:  50\n",
      "Model_type:  log_loss\n"
     ]
    }
   ],
   "source": [
    "# %%pycodestyle\n",
    "score = 0\n",
    "resultC = 0\n",
    "resultAlpha = 0\n",
    "resultEpoch = 0\n",
    "resultModel = \"\"\n",
    "C = [1, 10, 100]\n",
    "alphas = [0.001, 0.005, 0.01]\n",
    "max_epoch = [5, 10, 50]\n",
    "model_types = [\"lin_reg\", \"log_loss\"]\n",
    "for const in C:\n",
    "    for alpha in alphas:\n",
    "        for epoch in max_epoch:\n",
    "            for model in model_types:\n",
    "                tempScore = 0\n",
    "                for train_split, test_split in kf.split(X_train):\n",
    "                        X_tr = X_train[train_split]\n",
    "                        y_tr = y_train[train_split]\n",
    "                        X_tst = X_train[test_split]\n",
    "                        y_tst = y_train[test_split]\n",
    "                        clf = MySGDClassifier(batch_generator,\n",
    "                                              model_type=model,\n",
    "                                              max_epoch=epoch,\n",
    "                                              alpha=alpha,\n",
    "                                              C=const,\n",
    "                                              batch_size=100)\n",
    "                        clf.fit(X_tr, y_tr)\n",
    "                        my_clf_pred = clf.predict(X_tst)\n",
    "                        tempScore += roc_auc_score(y_tst, my_clf_pred)\n",
    "                print(tempScore / 5)\n",
    "                if(tempScore > score):\n",
    "                    score = tempScore / 5\n",
    "                    resultC = const\n",
    "                    resultAlpha = alpha\n",
    "                    resultEpoch = epoch\n",
    "                    resultModel = model\n",
    "print(\"Score: \", score)\n",
    "print(\"C: \", resultC)\n",
    "print(\"Alpha: \", resultAlpha)\n",
    "print(\"Epoch: \", resultEpoch)\n",
    "print(\"Model_type: \", resultModel)"
   ]
  },
  {
   "cell_type": "markdown",
   "metadata": {},
   "source": [
    "Подберите порог линейной модели, по достижении которого, Вы будете относить объект к классу 1. Вспомните, какую метрику мы оптимизируем в соревновании.  Как тогда правильно подобрать порог?"
   ]
  },
  {
   "cell_type": "code",
   "execution_count": 28,
   "metadata": {},
   "outputs": [],
   "source": [
    "kf = KFold(n_splits=3)"
   ]
  },
  {
   "cell_type": "code",
   "execution_count": 40,
   "metadata": {},
   "outputs": [
    {
     "name": "stderr",
     "output_type": "stream",
     "text": [
      "<ipython-input-38-4ef56f4e1606>:50: RuntimeWarning: divide by zero encountered in log\n",
      "  + (1 - y_batch) * np.log(1 - p))\n",
      "<ipython-input-38-4ef56f4e1606>:50: RuntimeWarning: invalid value encountered in multiply\n",
      "  + (1 - y_batch) * np.log(1 - p))\n"
     ]
    },
    {
     "name": "stdout",
     "output_type": "stream",
     "text": [
      "score 0.6181027057672899\n",
      "(array([32]),)\n"
     ]
    }
   ],
   "source": [
    "# %%pycodestyle\n",
    "score = np.arange(300, dtype=float).reshape(3, -1)\n",
    "# кросс фалидация на 3 фолдах,\n",
    "# для каждого 100 значений скора\n",
    "a = 0\n",
    "for train_split, test_split in kf.split(X_train):\n",
    "    X_tr = X_train[train_split]\n",
    "    y_tr = y_train[train_split]\n",
    "    X_t = X_train[test_split]\n",
    "    y_t = y_train[test_split]\n",
    "    clf = MySGDClassifier(batch_generator, model_type=\"log_loss\", max_epoch=50,\n",
    "                          alpha=0.01, C=100, batch_size=100)\n",
    "    clf.fit(X_tr, y_tr)\n",
    "    my_clf_pred = clf.predict(X_t)\n",
    "    for i in range(100):\n",
    "        score[a][i] = f1_score(my_clf_pred > i * 0.01, y_t)\n",
    "    a += 1\n",
    "score = score.mean(axis=0)\n",
    "print(\"score\", score.max())\n",
    "print(np.where(score == score.max()))"
   ]
  },
  {
   "cell_type": "code",
   "execution_count": 42,
   "metadata": {},
   "outputs": [
    {
     "name": "stdout",
     "output_type": "stream",
     "text": [
      "(16627, 15) (16627,)\n"
     ]
    }
   ],
   "source": [
    "# %%pycodestyle\n",
    "test_data = pd.read_csv('test_groups.csv')\n",
    "test_groups_titledata = {}\n",
    "for i in range(len(test_data)):\n",
    "    new_doc_test = test_data.iloc[i]\n",
    "    doc_group_test = new_doc_test['group_id']\n",
    "    doc_id_test = new_doc_test['doc_id']\n",
    "    title_test = doc_to_title[doc_id_test]\n",
    "    if doc_group_test not in test_groups_titledata:\n",
    "        test_groups_titledata[doc_group_test] = []\n",
    "    test_groups_titledata[doc_group_test].append((doc_id_test, title_test))\n",
    "X_test = []\n",
    "groups_test = []\n",
    "for new_group in test_groups_titledata:\n",
    "    docs_test = test_groups_titledata[new_group]\n",
    "    for k, (doc_id, title) in enumerate(docs_test):\n",
    "        groups_test.append(new_group)\n",
    "        all_dist = []\n",
    "        words = set(title.strip().split())\n",
    "        for j in range(0, len(docs_test)):\n",
    "            if k == j:\n",
    "                continue\n",
    "            doc_id_j, title_j = docs_test[j]\n",
    "            words_j = set(title_j.strip().split())\n",
    "            all_dist.append(len(words.intersection(words_j)))\n",
    "        X_test.append(sorted(all_dist, reverse=True)[0:15])\n",
    "X_test = np.array(X_test)\n",
    "groups_test = np.array(groups_test)\n",
    "print(X_test.shape, groups_test.shape)"
   ]
  },
  {
   "cell_type": "markdown",
   "metadata": {},
   "source": [
    "С лучшими параметрами на валидации сделайте предсказание на тестовом множестве, отправьте его на проверку на платформу kaggle. Убедитесь, что Вы смогли побить public score первого бейзлайна."
   ]
  },
  {
   "cell_type": "markdown",
   "metadata": {},
   "source": [
    "** При сдаче домашки Вам необходимо кроме ссылки на ноутбук показать Ваш ник на kaggle, под которым Вы залили решение, которое побило Handmade baseline. **"
   ]
  },
  {
   "cell_type": "code",
   "execution_count": 55,
   "metadata": {},
   "outputs": [],
   "source": [
    "# %%pycodestyle\n",
    "scaler = StandardScaler()\n",
    "scaler.fit(X_test)\n",
    "X_test = scaler.transform(X_test)\n",
    "clf = MySGDClassifier(batch_generator, model_type=\"log_loss\", max_epoch=50,\n",
    "                      alpha=0.01, C=100, batch_size=100)\n",
    "clf.fit(X_train, y_train)\n",
    "my_clf_pred = clf.predict(X_test)\n",
    "test_data[\"target\"] = pd.Series(np.array((my_clf_pred > 0.32), dtype=int))\n",
    "with open(\"attemp4.csv\", \"w\") as f:\n",
    "    f.write(test_data.to_csv(columns=(\"pair_id\", \"target\"), index=False))"
   ]
  },
  {
   "cell_type": "markdown",
   "metadata": {},
   "source": [
    "# Фидбек (бесценно)"
   ]
  },
  {
   "cell_type": "markdown",
   "metadata": {},
   "source": [
    "* Какие аспекты обучения линейных моделей Вам показались непонятными? Какое место стоит дополнительно объяснить?"
   ]
  },
  {
   "cell_type": "markdown",
   "metadata": {},
   "source": [
    "***Ваше ответ здесь***"
   ]
  },
  {
   "cell_type": "markdown",
   "metadata": {},
   "source": [
    "* Здесь Вы можете оставить отзыв о этой домашней работе или о всем курсе.   "
   ]
  },
  {
   "cell_type": "markdown",
   "metadata": {},
   "source": [
    "*** ВАШ ОТЗЫВ ЗДЕСЬ***"
   ]
  },
  {
   "cell_type": "markdown",
   "metadata": {
    "collapsed": true,
    "jupyter": {
     "outputs_hidden": true
    }
   },
   "source": [
    "Все здорово, спасибо за интересный и полезный материал."
   ]
  },
  {
   "cell_type": "code",
   "execution_count": null,
   "metadata": {},
   "outputs": [],
   "source": []
  }
 ],
 "metadata": {
  "anaconda-cloud": {},
  "kernelspec": {
   "display_name": "Python 3",
   "language": "python",
   "name": "python3"
  },
  "language_info": {
   "codemirror_mode": {
    "name": "ipython",
    "version": 3
   },
   "file_extension": ".py",
   "mimetype": "text/x-python",
   "name": "python",
   "nbconvert_exporter": "python",
   "pygments_lexer": "ipython3",
   "version": "3.8.5"
  },
  "nav_menu": {},
  "toc": {
   "colors": {
    "hover_highlight": "#DAA520",
    "navigate_num": "#000000",
    "navigate_text": "#333333",
    "running_highlight": "#FF0000",
    "selected_highlight": "#FFD700",
    "sidebar_border": "#EEEEEE",
    "wrapper_background": "#FFFFFF"
   },
   "moveMenuLeft": true,
   "nav_menu": {
    "height": "402px",
    "width": "253px"
   },
   "navigate_menu": true,
   "number_sections": false,
   "sideBar": true,
   "threshold": 4,
   "toc_cell": false,
   "toc_section_display": "block",
   "toc_window_display": true,
   "widenNotebook": false
  }
 },
 "nbformat": 4,
 "nbformat_minor": 4
}
