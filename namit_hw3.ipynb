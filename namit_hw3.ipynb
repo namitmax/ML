{
 "cells": [
  {
   "cell_type": "markdown",
   "metadata": {},
   "source": [
    "### Алгоритмы интеллектуальной обработки больших объемов данных\n",
    "## Домашнее задание №3 - Дерево решений\n"
   ]
  },
  {
   "cell_type": "markdown",
   "metadata": {},
   "source": [
    "**Общая информация**\n",
    "\n",
    "**Срок сдачи:** 08 декабря 2020, 08:30   \n",
    "**Штраф за опоздание:** -2 балла после 08:30 08 декабря, -4 балла после 08:30 15 декабря, -6 баллов после 08:30 22 декабря, -8 баллов после 08:30 29 декабря.\n",
    "\n",
    "При отправлении ДЗ указывайте фамилию в названии файла Присылать ДЗ необходимо в виде ссылки на свой github репозиторий на почту ml1.sphere@mail.ru с указанием темы в следующем формате:\n",
    "[ML0220, Задание 3] Фамилия Имя. \n",
    "\n",
    "\n",
    "Используйте данный Ipython Notebook при оформлении домашнего задания."
   ]
  },
  {
   "cell_type": "markdown",
   "metadata": {},
   "source": [
    "##  Реализуем дерево решений (3 балла)"
   ]
  },
  {
   "cell_type": "markdown",
   "metadata": {},
   "source": [
    "Допишите недостающие части дерева решений. Ваша реализация дерева должна работать по точности не хуже DecisionTreeClassifier из sklearn.\n",
    "Внимание: если Вас не устраивает предложенная структура хранения дерева, Вы без потери баллов можете сделать свой класс DecisionTreeClassifier, в котором сами полностью воспроизведете алгоритм дерева решений. Обязательно в нем иметь только функции fit, predict"
   ]
  },
  {
   "cell_type": "code",
   "execution_count": 1,
   "metadata": {},
   "outputs": [],
   "source": [
    "import matplotlib.pyplot as plt\n",
    "import numpy as np\n",
    "import pandas as pd\n",
    "\n",
    "from sklearn.datasets import load_wine\n",
    "from sklearn.ensemble import RandomForestClassifier\n",
    "from sklearn.metrics import accuracy_score\n",
    "from sklearn.model_selection import KFold, train_test_split, GridSearchCV, RandomizedSearchCV\n",
    "from sklearn.tree import DecisionTreeClassifier\n",
    "from sklearn.model_selection import StratifiedKFold\n",
    "from sklearn.metrics import f1_score, roc_auc_score"
   ]
  },
  {
   "cell_type": "code",
   "execution_count": 2,
   "metadata": {},
   "outputs": [],
   "source": [
    "class MyDecisionTreeClassifier:\n",
    "    NON_LEAF_TYPE = 0\n",
    "    LEAF_TYPE = 1\n",
    "\n",
    "    def __init__(self, min_samples_split=2, max_depth=5, criterion='gini', feature_importances_ = None):\n",
    "        \"\"\"\n",
    "        criterion -- критерий расщепления. необходимо релизовать три:\n",
    "        Ошибка классификации, Индекс Джини, Энтропийный критерий\n",
    "        max_depth -- максимальная глубина дерева\n",
    "        min_samples_split -- минимальное число объектов в листе, чтобы сделать новый сплит\n",
    "        \"\"\"\n",
    "        self.min_samples_split = min_samples_split\n",
    "        self.max_depth = max_depth\n",
    "        self.num_class = -1\n",
    "        # Для последнего задания\n",
    "        self.feature_importances_ = feature_importances_\n",
    "        self.criterion = criterion\n",
    "        self.criterion_function = self.__gini\n",
    "        if (self.criterion == 'entropy'):\n",
    "            self.criterion_function = self.__entropy\n",
    "        elif (self.criterion == 'misclass'):\n",
    "            self.criterion_function = self.__misclass\n",
    "        if(self.feature_importances_ is not None):\n",
    "            self._feature_dict = dict()\n",
    "        # Структура, которая описывает дерево\n",
    "        # Представляет словарь, где для  node_id (айдишник узла дерева) храним\n",
    "        # (тип_узла, айдишник признака сплита, порог сплита) если тип NON_LEAF_TYPE\n",
    "        # (тип_узла, предсказание класса, вероятность класса) если тип LEAF_TYPE\n",
    "        # Подразумевается, что у каждого node_id в дереве слева \n",
    "        # узел с айди 2 * node_id + 1, а справа 2 * node_id + 2\n",
    "        self.tree = dict()\n",
    "\n",
    "    def __div_samples(self, x, y, feature_id, threshold):\n",
    "        \"\"\"\n",
    "        Разделяет объекты на 2 множества\n",
    "        x -- матрица объектов\n",
    "        y -- вектор ответов\n",
    "        feature_id -- айдишник признака, по которому делаем сплит\n",
    "        threshold -- порог, по которому делаем сплит\n",
    "        \"\"\"\n",
    "        left_mask = x[:, feature_id] > threshold\n",
    "        right_mask = ~left_mask\n",
    "        return x[left_mask], x[right_mask], y[left_mask], y[right_mask]\n",
    "    \n",
    "    def __gini(self, l_c, l_s, r_c, r_s):\n",
    "        l_s = l_s.astype('float').reshape(-1,1)\n",
    "        r_s = r_s.astype('float').reshape(-1,1)\n",
    "        F_1 = (1 - np.sum(((l_c+r_c)/(l_s+r_s))**2,axis = 1)).reshape(-1,1)\n",
    "        F_l = (1 - np.sum(((l_c)/(l_s))**2,axis = 1)).reshape(-1,1)*l_s/(l_s+r_s)\n",
    "        F_r = (1 - np.sum(((r_c)/(r_s))**2,axis = 1)).reshape(-1,1)*r_s/(l_s+r_s)\n",
    "        return F_1 - F_l - F_r\n",
    "    \n",
    "    def __entropy(self,l_c, l_s, r_c, r_s):\n",
    "        a = np.random.rand()/1000\n",
    "        l_s = l_s.astype('float') + a\n",
    "        r_s = r_s.astype('float') + a\n",
    "        F_1 = (-np.sum((l_c+r_c+a)/(l_s+r_s)*np.log((l_c+r_c+a)/(l_s+r_s)),axis = 1)).reshape(-1,1)\n",
    "        F_l = (-np.sum((l_c+a)/l_s*np.log((l_c+a)/l_s),axis = 1)).reshape(-1,1)*l_s/(l_s+r_s)\n",
    "        F_r = (-np.sum(((r_c+a)/r_s)*np.log((r_c+a)/r_s),axis = 1)).reshape(-1,1)*r_s/(l_s+r_s)\n",
    "        return F_1 - F_l - F_r\n",
    "    \n",
    "    def __misclass(self,l_c, l_s, r_c, r_s):\n",
    "        l_s = l_s.astype('float')\n",
    "        r_s = r_s.astype('float')\n",
    "        F_1 = (1 - np.max((l_c+r_c)/(l_s+r_s),axis = 1)).reshape(-1,1)\n",
    "        F_l = (1 - np.max((l_c)/(l_s),axis = 1)).reshape(-1,1)*l_s/(l_s+r_s)\n",
    "        F_r = (1 - np.max((r_c)/(r_s),axis = 1)).reshape(-1,1)*r_s/(l_s+r_s)\n",
    "        return F_1 - F_l - F_r\n",
    "    \n",
    "    def __find_threshold_help(self, x, y):\n",
    "        \"\"\"\n",
    "        Находим оптимальный признак и порог для сплита\n",
    "        Здесь используемые разные impurity в зависимости от self.criterion\n",
    "        \"\"\"\n",
    "        indexForSep = np.argsort(x)\n",
    "        x = x[indexForSep]\n",
    "        y = y[indexForSep]\n",
    "        separators = np.where(y[1:] != y[:-1])[0] + 1 \n",
    "        # места где меняются классы\n",
    "        if separators.size == 0:\n",
    "            return -np.inf, 0\n",
    "        # если класс 1 делать нечего\n",
    "        index = np.zeros((separators.shape[0], self.num_class))\n",
    "        index[np.arange(separators.shape[0]), y[separators - 1]] = 1\n",
    "        # в каком порядке идут классы по разделениям\n",
    "        elNums = np.append(np.array([0]), separators[:-1])\n",
    "        count = index * (separators - elNums).reshape(-1, 1)\n",
    "        # сколько элементов в классе\n",
    "        left = np.cumsum(count, axis = 0)\n",
    "        right = np.bincount(y, minlength=self.num_class) - left\n",
    "        #сколько элементов слева и справа\n",
    "        leftSizes = separators.reshape(-1, 1)\n",
    "        rightSizes = y.shape[0] - leftSizes\n",
    "        values = self.criterion_function(left, leftSizes, right, rightSizes)\n",
    "        minInd = np.argmax(values)\n",
    "        return values[minInd], (x[leftSizes[minInd][0] - 1] + x[leftSizes[minInd][0]]) / 2\n",
    "\n",
    "    def __find_threshold(self, x, y):\n",
    "        thresholds = np.array([self.__find_threshold_help(x[:,i],y) for i in range(x.shape[1])], dtype=object)\n",
    "        ind= np.argmax(thresholds[:, 0])\n",
    "        return thresholds[ind], ind\n",
    "    \n",
    "    def __fit_node(self, x, y, node_id, depth, yCounts):\n",
    "        \"\"\"\n",
    "        Делаем новый узел в дереве\n",
    "        Решаем, терминальный он или нет\n",
    "        Если нет, то строим левый узел  с айди 2 * node_id + 1\n",
    "        И правый узел с  айди 2 * node_id + 2\n",
    "        \"\"\"\n",
    "        if (self.max_depth <= depth) or (y.size <= self.min_samples_split) or ((np.bincount(y).shape[0] == 1)):\n",
    "            counts = np.bincount(y, minlength = self.num_class)\n",
    "            self.tree[node_id] = (self.LEAF_TYPE, counts.argmax(), counts / y.size)\n",
    "        else:\n",
    "            threshold, thresholdId = self.__find_threshold(x, y)\n",
    "            bestThr = threshold[1]\n",
    "            if bestThr is None:\n",
    "                self.tree[node_id] = (self.LEAF_TYPE, yCounts.argmax(), yCounts.astype(float) / y.size)\n",
    "            else:\n",
    "                x_l, x_r, y_l, y_r =self.__div_samples(x, y, thresholdId, bestThr)\n",
    "                if (self.feature_importances_ is not None):\n",
    "                    self.feature_importances_[thresholdId] += threshold[0]\n",
    "                if (y_l.size == 0 or y_r.size == 0):\n",
    "                    counts = np.bincount(y, minlength = self.num_class)\n",
    "                    maxCount = counts.argmax()\n",
    "                    self.tree[node_id] = (self.LEAF_TYPE, counts.argmax(), counts / y.size)\n",
    "                else:\n",
    "                    self.tree[node_id] = (self.NON_LEAF_TYPE, thresholdId, bestThr)\n",
    "                    self.__fit_node(x_l, y_l, 2 * node_id + 1, depth + 1, yCounts)\n",
    "                    self.__fit_node(x_r, y_r, 2 * node_id + 2, depth + 1, yCounts)\n",
    "    \n",
    "    def fit(self, x, y):\n",
    "        \"\"\"\n",
    "        Рекурсивно строим дерево решений\n",
    "        Начинаем с корня node_id 0\n",
    "        \"\"\"\n",
    "        if (self.feature_importances_ is not None):\n",
    "            self.feature_importances_ = np.zeros(x.shape[1], dtype=np.float)\n",
    "        self.num_class = np.unique(y).size\n",
    "        yCounts = np.bincount(y)\n",
    "        self.__fit_node(x, y, 0, 0, yCounts) \n",
    "\n",
    "    def __predict_class(self, x, node_id):\n",
    "        \"\"\"\n",
    "        Рекурсивно обходим дерево по всем узлам,\n",
    "        пока не дойдем до терминального\n",
    "        \"\"\"\n",
    "        node = self.tree[node_id]\n",
    "        if node[0] == self.__class__.NON_LEAF_TYPE:\n",
    "            _, feature_id, threshold = node\n",
    "            if x[feature_id] > threshold:\n",
    "                return self.__predict_class(x, 2 * node_id + 1)\n",
    "            else:\n",
    "                return self.__predict_class(x, 2 * node_id + 2)\n",
    "        else:\n",
    "            return node[1]\n",
    "        \n",
    "    def predict(self, X):\n",
    "        \"\"\"\n",
    "        Вызывает predict для всех объектов из матрицы X\n",
    "        \"\"\"\n",
    "        return np.array([self.__predict_class(x, 0) for x in X])\n",
    "    \n",
    "    def __predict_class_proba(self, x, node_id):\n",
    "        \"\"\"\n",
    "        Рекурсивно обходим дерево по всем узлам,\n",
    "        пока не дойдем до терминального\n",
    "        \"\"\"\n",
    "        node = self.tree[node_id]\n",
    "        if node[0] == self.__class__.NON_LEAF_TYPE:\n",
    "            _, feature_id, threshold = node\n",
    "            if x[feature_id] > threshold:\n",
    "                return self.__predict_class_proba(x, 2 * node_id + 1)\n",
    "            else:\n",
    "                return self.__predict_class_proba(x, 2 * node_id + 2)\n",
    "        else:\n",
    "            return node[2]\n",
    "        \n",
    "    def predict_proba(self, X):\n",
    "        \"\"\"\n",
    "        Вызывает predict для всех объектов из матрицы X\n",
    "        \"\"\"\n",
    "        return np.array([self.__predict_class_proba(x, 0) for x in X])\n",
    "    \n",
    "    def fit_predict(self, x_train, y_train, predicted_x):\n",
    "        self.fit(x_train, y_train)\n",
    "        return self.predict(predicted_x)\n",
    "    \n",
    "    def get_feature_importance(self):\n",
    "        \"\"\"\n",
    "        Возвращает важность признаков\n",
    "        \"\"\"\n",
    "        return self.feature_importances_"
   ]
  },
  {
   "cell_type": "code",
   "execution_count": 3,
   "metadata": {},
   "outputs": [
    {
     "data": {
      "text/plain": [
       "DecisionTreeClassifier()"
      ]
     },
     "execution_count": 3,
     "metadata": {},
     "output_type": "execute_result"
    }
   ],
   "source": [
    "wine = load_wine()\n",
    "X_train, X_test, y_train, y_test = train_test_split(wine.data, wine.target, test_size=0.1, stratify=wine.target)\n",
    "my_clf = MyDecisionTreeClassifier(min_samples_split=2)\n",
    "my_clf.fit(X_train, y_train)\n",
    "clf = DecisionTreeClassifier(min_samples_split=2)\n",
    "clf.fit(X_train, y_train)"
   ]
  },
  {
   "cell_type": "code",
   "execution_count": 4,
   "metadata": {},
   "outputs": [
    {
     "name": "stdout",
     "output_type": "stream",
     "text": [
      "0.9444444444444444\n",
      "0.9444444444444444\n"
     ]
    }
   ],
   "source": [
    "print(accuracy_score(y_pred=clf.predict(X_test), y_true=y_test))\n",
    "print(accuracy_score(y_pred=my_clf.predict(X_test), y_true=y_test))"
   ]
  },
  {
   "cell_type": "markdown",
   "metadata": {},
   "source": [
    "## Ускоряем дерево решений (2 балла)\n",
    "Добиться скорости работы на fit не медленнее чем в 10 раз sklearn на данных wine. \n",
    "Для этого используем numpy."
   ]
  },
  {
   "cell_type": "code",
   "execution_count": 5,
   "metadata": {},
   "outputs": [],
   "source": [
    "my_clf = MyDecisionTreeClassifier(min_samples_split=2)\n",
    "clf = DecisionTreeClassifier(min_samples_split=2)"
   ]
  },
  {
   "cell_type": "code",
   "execution_count": 6,
   "metadata": {
    "scrolled": true
   },
   "outputs": [
    {
     "name": "stdout",
     "output_type": "stream",
     "text": [
      "CPU times: user 4.11 ms, sys: 3.62 ms, total: 7.73 ms\n",
      "Wall time: 4.62 ms\n"
     ]
    },
    {
     "data": {
      "text/plain": [
       "DecisionTreeClassifier()"
      ]
     },
     "execution_count": 6,
     "metadata": {},
     "output_type": "execute_result"
    }
   ],
   "source": [
    "%time clf.fit(X_train, y_train)"
   ]
  },
  {
   "cell_type": "code",
   "execution_count": 7,
   "metadata": {},
   "outputs": [
    {
     "name": "stdout",
     "output_type": "stream",
     "text": [
      "CPU times: user 16.8 ms, sys: 324 µs, total: 17.1 ms\n",
      "Wall time: 15.3 ms\n"
     ]
    }
   ],
   "source": [
    "%time my_clf.fit(X_train, y_train)"
   ]
  },
  {
   "cell_type": "markdown",
   "metadata": {},
   "source": [
    "## Боевое применение (3 балла)\n",
    "\n",
    "На практике Вы познакомились с датасетом Speed Dating Data. В нем каждая пара в быстрых свиданиях характеризуется определенным набором признаков. Задача -- предсказать, произойдет ли матч пары (колонка match). \n",
    "\n",
    "Пример работы с датасетом можете найти в практике пункт 2\n",
    "https://github.com/VVVikulin/ml1.sphere/blob/master/2019-09/lecture_06/pract-trees.ipynb\n",
    "\n",
    "Данные и описания колонок лежат тут\n",
    "https://cloud.mail.ru/public/8nHV/p6J7wY1y1/speed-dating-experiment/"
   ]
  },
  {
   "cell_type": "markdown",
   "metadata": {},
   "source": [
    "Скачайте датасет, обработайте данные, как показано на семинаре или своим собственным способом. Обучите дерево классифкации. В качестве таргета возьмите колонку 'match'. Постарайтесь хорошо обработать признаки, чтобы выбить максимальную точность. Если точность будет близка к случайному гаданию, задание не будет защитано. \n"
   ]
  },
  {
   "cell_type": "code",
   "execution_count": 8,
   "metadata": {},
   "outputs": [
    {
     "name": "stdout",
     "output_type": "stream",
     "text": [
      "(8378, 195)\n"
     ]
    }
   ],
   "source": [
    "df = pd.read_csv('data/Speed Dating Data.csv', sep = ',', encoding='latin1')\n",
    "print(df.shape)\n",
    "df = df.iloc[:, :97]\n",
    "df = df.drop(['id', 'idg', 'condtn', 'round', 'position',\n",
    "              'positin1', 'order', 'partner', 'age_o', 'race_o',\n",
    "              'pf_o_att', 'pf_o_sin', 'pf_o_int', 'pf_o_fun',\n",
    "              'pf_o_amb', 'pf_o_sha', 'dec_o', 'attr_o',\n",
    "              'sinc_o', 'intel_o',  'amb_o',\n",
    "              'shar_o',  'prob_o', 'met_o'], axis=1)\n",
    "\n",
    "df = df.dropna(subset=['age'])\n",
    "df.loc[:, 'field_cd'] = df.loc[:, 'field_cd'].dropna()\n",
    "df = df.drop(['field'], axis=1)\n",
    "\n",
    "df.loc[:, 'mn_sat'] = df.loc[:, 'mn_sat'].str.replace(',', '').astype(np.float)\n",
    "df.loc[:, 'mn_sat'] = df.mn_sat.dropna()\n",
    "df = df.drop(['undergra'], axis=1)\n",
    "df.loc[:, 'tuition'] = df.loc[:, 'tuition'].str.replace(',', '').astype(np.float)\n",
    "df.loc[:, 'tuition'] = df.tuition.dropna()\n",
    "df = df.dropna(subset=['imprelig', 'imprace'])\n",
    "df = df.drop(['from', 'zipcode'], axis=1)\n",
    "df.loc[:, 'income'] = df.loc[:, 'income'].str.replace(',', '').astype(np.float)\n",
    "df.loc[:, 'income'] = df.loc[:, 'income'].dropna()\n",
    "df = df.dropna(subset=['date'])\n",
    "df.loc[:, 'career_c'] = df.loc[:, 'career_c'].dropna()\n",
    "df = df.drop(['career'], axis=1)\n",
    "df = df.drop(['sports', 'tvsports', 'exercise', 'dining',\n",
    "              'museums', 'art', 'hiking', 'gaming',\n",
    "              'clubbing', 'reading', 'tv', 'theater',\n",
    "              'movies', 'concerts', 'music', 'shopping', 'yoga'], axis=1)\n",
    "df = df.drop(['expnum'], axis=1)\n",
    "\n",
    "\n",
    "feat = ['iid', 'wave', 'attr1_1', 'sinc1_1',\n",
    "        'intel1_1', 'fun1_1', 'amb1_1', 'shar1_1']\n",
    "\n",
    "temp = df.drop_duplicates(subset=['iid', 'wave']).loc[:, feat]\n",
    "df.loc[:, 'temp_totalsum'] = df.loc[:, ['attr1_1', 'sinc1_1',\n",
    "                                        'intel1_1', 'fun1_1',\n",
    "                                        'amb1_1', 'shar1_1']].sum(axis=1)\n",
    "\n",
    "df.loc[:, ['attr1_1', 'sinc1_1', 'intel1_1',\n",
    "           'fun1_1', 'amb1_1', 'shar1_1']] = (\n",
    "    df.loc[:, ['attr1_1', 'sinc1_1', 'intel1_1',\n",
    "               'fun1_1', 'amb1_1', 'shar1_1']].T /\n",
    "    df.loc[:, 'temp_totalsum'].T).T * 100\n",
    "\n",
    "\n",
    "feat = ['iid', 'wave', 'attr2_1', 'sinc2_1',\n",
    "        'intel2_1', 'fun2_1', 'amb2_1', 'shar2_1']\n",
    "\n",
    "temp = df.drop_duplicates(subset=['iid', 'wave']).loc[:, feat]\n",
    "temp.loc[:, 'totalsum'] = temp.iloc[:, 2:].sum(axis=1)\n",
    "df.loc[:, 'temp_totalsum'] = df.loc[:, ['attr2_1', 'sinc2_1',\n",
    "                                      'intel2_1', 'fun2_1',\n",
    "                                      'amb2_1', 'shar2_1']].sum(axis=1)\n",
    "\n",
    "df.loc[:, ['attr2_1', 'sinc2_1',\n",
    "           'intel2_1', 'fun2_1',\n",
    "           'amb2_1', 'shar2_1']] = (\n",
    "    df.loc[:, ['attr2_1', 'sinc2_1', 'intel2_1',\n",
    "               'fun2_1', 'amb2_1', 'shar2_1']].T /\n",
    "    df.loc[:, 'temp_totalsum'].T).T * 100\n",
    "\n",
    "df = df.drop(['temp_totalsum'], axis=1)\n",
    "\n",
    "\n",
    "for i in [4, 5]:\n",
    "    feat = ['attr{}_1'.format(i), 'sinc{}_1'.format(i),\n",
    "            'intel{}_1'.format(i), 'fun{}_1'.format(i),\n",
    "            'amb{}_1'.format(i), 'shar{}_1'.format(i)]\n",
    "    if i != 4:\n",
    "        feat.remove('shar{}_1'.format(i))\n",
    "    df = df.drop(feat, axis=1)\n",
    "\n",
    "    \n",
    "df = df.drop(['wave'], axis=1)\n",
    "df_male = df.query('gender == 1').drop_duplicates(subset=['iid', 'pid'])\\\n",
    "    .drop(['gender'], axis=1).dropna()\n",
    "\n",
    "df_female = df.query('gender == 0').drop_duplicates(subset=['iid'])\\\n",
    "    .drop(['gender', 'match', 'int_corr', 'samerace'], axis=1).dropna()\n",
    "\n",
    "df_female.columns = df_female.columns + '_f'\n",
    "\n",
    "\n",
    "df_female = df_female.drop(['pid_f'], axis=1)\n",
    "df_pair = df_male.join(df_female.set_index('iid_f'), on='pid', how='inner')\n",
    "df_pair = df_pair.drop(['iid', 'pid'], axis=1)\n",
    "X = df_pair.iloc[:, 1:].values\n",
    "y = df_pair.iloc[:, 0].values\n",
    "df_pair_temp = df_pair.drop(['match'], axis = 1)"
   ]
  },
  {
   "cell_type": "markdown",
   "metadata": {},
   "source": [
    "Разбейте датасет на трейн и валидацию. Подберите на валидации оптимальный критерий  информативности. \n",
    "Постройте графики зависимости точности на валидации от глубины дерева, от минимального числа объектов для сплита. \n",
    "Какой максимальной точности удалось достигнуть?"
   ]
  },
  {
   "cell_type": "code",
   "execution_count": 9,
   "metadata": {},
   "outputs": [],
   "source": [
    "X_train, X_test, y_train, y_test = train_test_split(X, y, test_size = 0.1)\n",
    "kf = KFold(n_splits=5)"
   ]
  },
  {
   "cell_type": "code",
   "execution_count": 10,
   "metadata": {},
   "outputs": [
    {
     "name": "stdout",
     "output_type": "stream",
     "text": [
      "0.5685220878219577 entropy\n",
      "0.6528541295342858 gini\n",
      "0.6528541295342858 misclas\n",
      "gini\n"
     ]
    }
   ],
   "source": [
    "models = ['entropy','gini','misclas']\n",
    "score = 0\n",
    "for model in models:\n",
    "    a = 0\n",
    "    for train, test in kf.split(X_train):\n",
    "        X_tr = X_train[train]\n",
    "        y_tr = y_train[train]\n",
    "        X_t = X_train[test]\n",
    "        y_t = y_train[test]\n",
    "        my_clf = MyDecisionTreeClassifier(criterion=model)\n",
    "        my_clf.fit(X_tr, y_tr)\n",
    "        a += roc_auc_score(y_t, my_clf.predict_proba(X_t)[:,1])\n",
    "    print(a / 5, model)\n",
    "    if a > score:\n",
    "        result = model\n",
    "        score = a\n",
    "print(result)"
   ]
  },
  {
   "cell_type": "code",
   "execution_count": 11,
   "metadata": {},
   "outputs": [
    {
     "name": "stdout",
     "output_type": "stream",
     "text": [
      "0.6528541295342858\n",
      "0.6528541295342858\n",
      "0.6546034006713121\n",
      "0.6541305874325414\n",
      "0.6541305874325414\n",
      "0.6541305874325414\n",
      "0.6512937079999173\n",
      "0.6503480815223759\n",
      "0.6465655756122104\n",
      "0.6546034006713121 3\n"
     ]
    }
   ],
   "source": [
    "splits = range(1, 10, 1)\n",
    "scoresSplit = []\n",
    "score = 0\n",
    "for split in splits:\n",
    "    a = 0\n",
    "    for train, test in kf.split(X_train):\n",
    "        X_tr = X_train[train]\n",
    "        y_tr = y_train[train]\n",
    "        X_t = X_train[test]\n",
    "        y_t = y_train[test]\n",
    "        my_clf = MyDecisionTreeClassifier(criterion = result, min_samples_split = split)\n",
    "        my_clf.fit(X_tr, y_tr)\n",
    "        a += roc_auc_score(y_t, my_clf.predict_proba(X_t)[:,1])\n",
    "    print(a / 5)\n",
    "    scoresSplit.append(a / 5)\n",
    "    if a > score:\n",
    "        score = a\n",
    "        splitResult = split\n",
    "print(score / 5, splitResult)"
   ]
  },
  {
   "cell_type": "code",
   "execution_count": 12,
   "metadata": {},
   "outputs": [
    {
     "data": {
      "text/plain": [
       "[<matplotlib.lines.Line2D at 0x7fa2be47b430>]"
      ]
     },
     "execution_count": 12,
     "metadata": {},
     "output_type": "execute_result"
    },
    {
     "data": {
      "image/png": "[encoded data removed]",
      "text/plain": [
       "<Figure size 432x288 with 1 Axes>"
      ]
     },
     "metadata": {
      "needs_background": "light"
     },
     "output_type": "display_data"
    }
   ],
   "source": [
    "plt.plot(splits, scoresSplit)"
   ]
  },
  {
   "cell_type": "code",
   "execution_count": 13,
   "metadata": {},
   "outputs": [
    {
     "name": "stdout",
     "output_type": "stream",
     "text": [
      "0.6315684855502484\n",
      "0.6351254333546995\n",
      "0.7026314744742882\n",
      "0.6807909241913584\n",
      "0.6546034006713121\n",
      "0.6581589562268677\n",
      "0.6605340777040298\n",
      "0.6605340777040298\n",
      "0.6605340777040298\n",
      "0.6605340777040298\n",
      "0.6605340777040298\n",
      "0.6605340777040298\n",
      "0.6605340777040298\n",
      "0.6605340777040298\n",
      "0.6605340777040298\n",
      "0.6605340777040298\n",
      "0.6605340777040298\n",
      "0.6605340777040298\n",
      "0.6605340777040298\n",
      "0.7026314744742882 3\n"
     ]
    }
   ],
   "source": [
    "depths = range(1, 20, 1)\n",
    "scoresDepth = []\n",
    "score = 0\n",
    "for depth in depths:\n",
    "    a = 0\n",
    "    for train, test in kf.split(X_train):\n",
    "        X_tr = X_train[train]\n",
    "        y_tr = y_train[train]\n",
    "        X_t = X_train[test]\n",
    "        y_t = y_train[test]\n",
    "        my_clf = MyDecisionTreeClassifier(criterion = result, min_samples_split = splitResult, max_depth = depth)\n",
    "        my_clf.fit(X_tr, y_tr)\n",
    "        a += roc_auc_score(y_t, my_clf.predict_proba(X_t)[:,1])\n",
    "    print(a / 5)\n",
    "    scoresDepth.append(a / 5)\n",
    "    if a > score:\n",
    "        score = a\n",
    "        depthResult = depth\n",
    "print(score / 5, depthResult)"
   ]
  },
  {
   "cell_type": "code",
   "execution_count": 14,
   "metadata": {},
   "outputs": [
    {
     "data": {
      "text/plain": [
       "[<matplotlib.lines.Line2D at 0x7fa2b636c910>]"
      ]
     },
     "execution_count": 14,
     "metadata": {},
     "output_type": "execute_result"
    },
    {
     "data": {
      "image/png": "[encoded data removed]",
      "text/plain": [
       "<Figure size 432x288 with 1 Axes>"
      ]
     },
     "metadata": {
      "needs_background": "light"
     },
     "output_type": "display_data"
    }
   ],
   "source": [
    "plt.plot(depths, scoresDepth)"
   ]
  },
  {
   "cell_type": "code",
   "execution_count": 15,
   "metadata": {},
   "outputs": [],
   "source": [
    "my_clf = MyDecisionTreeClassifier(criterion = result, \n",
    "                                  min_samples_split = splitResult,\n",
    "                                  max_depth = depthResult,\n",
    "                                  feature_importances_ = 'need'\n",
    "                                 )\n",
    "my_clf.fit(X_train, y_train)"
   ]
  },
  {
   "cell_type": "code",
   "execution_count": 16,
   "metadata": {},
   "outputs": [
    {
     "name": "stdout",
     "output_type": "stream",
     "text": [
      "My clf: \n",
      "0.6736842105263159\n",
      "0.9285714285714286\n",
      "0.9032258064516129\n"
     ]
    }
   ],
   "source": [
    "print('My clf: ')\n",
    "print(f1_score(y_pred=my_clf.predict(X_test), y_true=y_test, average='macro'))\n",
    "print(roc_auc_score(y_test, my_clf.predict_proba(X_test)[:,1]))\n",
    "print(accuracy_score(y_pred=my_clf.predict(X_test), y_true=y_test))"
   ]
  },
  {
   "cell_type": "markdown",
   "metadata": {},
   "source": [
    "## Находим самые важные признаки (2 балла)\n",
    "\n"
   ]
  },
  {
   "cell_type": "markdown",
   "metadata": {},
   "source": [
    "По построенному дереву  легко понять, какие признаки лучше всего помогли решить задачу. Часто это бывает нужно  не только  для сокращения размерности в данных, но и для лучшего понимания прикладной задачи. Например, Вы хотите понять, какие признаки стоит еще конструировать -- для этого нужно понимать, какие из текущих лучше всего работают в дереве. "
   ]
  },
  {
   "cell_type": "markdown",
   "metadata": {},
   "source": [
    "Самый простой метод -- посчитать число сплитов, где использовался данные признак. Это не лучший вариант, так как по признаку который принимает всего 2 значения, но который почти точно разделяет выборку, число сплитов будет очень 1, но при этом признак сам очень хороший. \n",
    "В этом задании предлагается для каждого признака считать суммарный gain (в лекции обозначено как Q) при использовании этого признака в сплите. Тогда даже у очень хороших признаков с маленьким число сплитов это значение должно быть довольно высоким.  "
   ]
  },
  {
   "cell_type": "markdown",
   "metadata": {},
   "source": [
    "Реализовать это довольно просто: создаете словарь номер фичи : суммарный гейн и добавляете в нужную фичу каждый раз, когда используете ее при построении дерева. "
   ]
  },
  {
   "cell_type": "markdown",
   "metadata": {},
   "source": [
    "Добавьте функционал, который определяет значения feature importance. Обучите дерево на датасете Speed Dating Data.\n",
    "Выведите 10 главных фичей по важности."
   ]
  },
  {
   "cell_type": "code",
   "execution_count": 17,
   "metadata": {},
   "outputs": [],
   "source": [
    "from operator import itemgetter"
   ]
  },
  {
   "cell_type": "code",
   "execution_count": 18,
   "metadata": {},
   "outputs": [
    {
     "data": {
      "text/plain": [
       "[('imprace_f', 0.09391292417451746),\n",
       " ('shar2_1', 0.07789133071110008),\n",
       " ('fun1_1_f', 0.06636679292929279),\n",
       " ('fun_o', 0.03143896764943366),\n",
       " ('fun_o_f', 0.013299546713674296),\n",
       " ('samerace', 0.008746294691539008),\n",
       " ('int_corr', 0.0),\n",
       " ('like_o', 0.0),\n",
       " ('age', 0.0),\n",
       " ('field_cd', 0.0)]"
      ]
     },
     "execution_count": 18,
     "metadata": {},
     "output_type": "execute_result"
    }
   ],
   "source": [
    "result = dict()\n",
    "for i, a in enumerate(my_clf.feature_importances_):\n",
    "    result[df_pair.columns[i]] = a\n",
    "(sorted(result.items(), key=itemgetter(1), reverse=True)[0:10])"
   ]
  },
  {
   "cell_type": "markdown",
   "metadata": {},
   "source": [
    "## Фидбек (бесценно)"
   ]
  },
  {
   "cell_type": "markdown",
   "metadata": {},
   "source": [
    "* Какие аспекты обучения деревьев решений Вам показались непонятными? Какое место стоит дополнительно объяснить?"
   ]
  },
  {
   "cell_type": "markdown",
   "metadata": {},
   "source": [
    "### Ваш ответ здесь"
   ]
  },
  {
   "cell_type": "markdown",
   "metadata": {},
   "source": [
    "* Здесь Вы можете оставить отзыв о этой домашней работе или о всем курсе."
   ]
  },
  {
   "cell_type": "markdown",
   "metadata": {},
   "source": [
    "### ВАШ ОТЗЫВ ЗДЕСЬ\n",
    "\n"
   ]
  }
 ],
 "metadata": {
  "anaconda-cloud": {},
  "kernelspec": {
   "display_name": "Python 3",
   "language": "python",
   "name": "python3"
  },
  "language_info": {
   "codemirror_mode": {
    "name": "ipython",
    "version": 3
   },
   "file_extension": ".py",
   "mimetype": "text/x-python",
   "name": "python",
   "nbconvert_exporter": "python",
   "pygments_lexer": "ipython3",
   "version": "3.9.0"
  }
 },
 "nbformat": 4,
 "nbformat_minor": 2
}
